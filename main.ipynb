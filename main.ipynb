{
 "cells": [
  {
   "cell_type": "code",
   "execution_count": 1,
   "metadata": {
    "collapsed": false
   },
   "outputs": [],
   "source": [
    "%matplotlib inline"
   ]
  },
  {
   "cell_type": "code",
   "execution_count": 56,
   "metadata": {
    "collapsed": true
   },
   "outputs": [],
   "source": [
    "import matplotlib.pyplot as plt\n",
    "import seaborn as sns"
   ]
  },
  {
   "cell_type": "code",
   "execution_count": 2,
   "metadata": {
    "collapsed": true
   },
   "outputs": [],
   "source": [
    "import numpy as np\n",
    "import pandas as pd"
   ]
  },
  {
   "cell_type": "code",
   "execution_count": 90,
   "metadata": {
    "collapsed": true
   },
   "outputs": [],
   "source": [
    "from datetime import timedelta "
   ]
  },
  {
   "cell_type": "code",
   "execution_count": 84,
   "metadata": {
    "collapsed": true
   },
   "outputs": [],
   "source": [
    "from sklearn.model_selection import StratifiedShuffleSplit"
   ]
  },
  {
   "cell_type": "code",
   "execution_count": null,
   "metadata": {
    "collapsed": true
   },
   "outputs": [],
   "source": []
  },
  {
   "cell_type": "markdown",
   "metadata": {},
   "source": [
    "Вспомогательные функции:"
   ]
  },
  {
   "cell_type": "code",
   "execution_count": null,
   "metadata": {
    "collapsed": true
   },
   "outputs": [],
   "source": [
    "from sklearn.preprocessing import LabelEncoder\n",
    "from sklearn.preprocessing import OneHotEncoder\n",
    "\n",
    "# Добавляет в DataFrame df новый столбец с именем column_name+'_le', содержащий номера категорий, \n",
    "# соответствующие столбцу column_name. Исходный столбец column_name удаляется\n",
    "\n",
    "def encode_with_LabelEncoder(df, column_name):\n",
    "    label_encoder = LabelEncoder()\n",
    "    label_encoder.fit(df[column_name])\n",
    "    df[column_name+'_le'] = label_encoder.transform(df[column_name])\n",
    "    df.drop([column_name], axis=1, inplace=True)\n",
    "    return label_encoder\n",
    "\n",
    "# Кодирование с использованием ранее созданного LabelEncoder\n",
    "#\n",
    "def encode_with_existing_LabelEncoder(df, column_name, label_encoder):\n",
    "    df[column_name+'_le'] = label_encoder.transform(df[column_name])\n",
    "    df.drop([column_name], axis=1, inplace=True)\n",
    "\n",
    "# Вначале кодирует столбец column_name при помощи LabelEncoder, потом добавляет в DataFrame df новые столбцы \n",
    "# с именами column_name=<категория_i>. Столбцы column_name и column_name+'_le' удаляются\n",
    "# Usage: df, label_encoder = encode_with_OneHotEncoder_and_delete_column(df, column_name)\n",
    "#\n",
    "def encode_with_OneHotEncoder_and_delete_column(df, column_name):\n",
    "    le_encoder = encode_with_LabelEncoder(df, column_name)\n",
    "    return perform_dummy_coding_and_delete_column(df, column_name, le_encoder), le_encoder\n",
    "\n",
    "# То же, что предыдущий метод, но при помощи уже существующего LabelEncoder\n",
    "#\n",
    "def encode_with_OneHotEncoder_using_existing_LabelEncoder_and_delete_column(df, column_name, le_encoder):\n",
    "    encode_with_existing_LabelEncoder(df, column_name, le_encoder)\n",
    "    return perform_dummy_coding_and_delete_column(df, column_name, le_encoder)\n",
    "\n",
    "# Реализует Dummy-кодирование\n",
    "#\n",
    "def perform_dummy_coding_and_delete_column(df, column_name, le_encoder):\n",
    "    oh_encoder = OneHotEncoder(sparse=False)\n",
    "    oh_features = oh_encoder.fit_transform(df[column_name+'_le'].values.reshape(-1,1))\n",
    "    ohe_columns=[column_name + '=' + le_encoder.classes_[i] for i in range(oh_features.shape[1])]\n",
    "\n",
    "    df.drop([column_name+'_le'], axis=1, inplace=True)\n",
    "\n",
    "    df_with_features = pd.DataFrame(oh_features, columns=ohe_columns)\n",
    "    df_with_features.index = df.index\n",
    "    return pd.concat([df, df_with_features], axis=1)"
   ]
  },
  {
   "cell_type": "code",
   "execution_count": null,
   "metadata": {
    "collapsed": true
   },
   "outputs": [],
   "source": [
    "def split_data_and_target(data, target_name, inplace=True):\n",
    "    y = data[target_name]\n",
    "    X = None\n",
    "    \n",
    "    if inplace:\n",
    "        data.drop([target_name], inplace=inplace, axis=1)\n",
    "        X = data\n",
    "    else:\n",
    "        X = data.drop([target_name], inplace=inplace, axis=1)\n",
    "    return X, y"
   ]
  },
  {
   "cell_type": "code",
   "execution_count": null,
   "metadata": {
    "collapsed": true
   },
   "outputs": [],
   "source": [
    "def merge_sources(data):\n",
    "    result = pd.DataFrame([])\n",
    "    row_len = data.shape[1]\n",
    "    \n",
    "    for unique_id in data['ID'].unique():\n",
    "        for source in range(1,5):\n",
    "            row = pd.DataFrame([])\n",
    "            if ((data['ID'] == unique_id) & (data['NUM_SOURCE'] == source)).any():\n",
    "                row = row.append(data[((data['ID'] == unique_id) & (data['NUM_SOURCE'] == source))].add_prefix(str(source) + '_'))\n",
    "            else:\n",
    "                row = row.append(pd.DataFrame([[np.nan] * row_len], columns=data.columns).add_prefix(str(source) + '_'))\n",
    "            result = result.append(row)\n",
    "    return result"
   ]
  },
  {
   "cell_type": "code",
   "execution_count": null,
   "metadata": {
    "collapsed": true
   },
   "outputs": [],
   "source": [
    "def extract_textpayment_features(data):"
   ]
  },
  {
   "cell_type": "code",
   "execution_count": 43,
   "metadata": {
    "collapsed": true
   },
   "outputs": [],
   "source": [
    "def transofrm_to_date(data, columns):   \n",
    "    for column in columns:\n",
    "        if column == 'SK_DATE_DECISION':\n",
    "            data['SK_DATE_DECISION'].apply(str)\n",
    "            data[column] = pd.to_datetime(data[column], format='%Y%m%d')\n",
    "        else:\n",
    "            data[column] = pd.to_datetime(data[column], format='%d.%m.%Y')"
   ]
  },
  {
   "cell_type": "code",
   "execution_count": null,
   "metadata": {
    "collapsed": true
   },
   "outputs": [],
   "source": [
    "def fill_dates(data):\n",
    "    '''\n",
    "    \n",
    "    '''\n",
    "    \n",
    "    data['DTIME_CREDIT_ENDDATE']"
   ]
  },
  {
   "cell_type": "code",
   "execution_count": null,
   "metadata": {
    "collapsed": true
   },
   "outputs": [],
   "source": [
    "def merge_histories(data):\n",
    "    return"
   ]
  },
  {
   "cell_type": "code",
   "execution_count": 3,
   "metadata": {
    "collapsed": true
   },
   "outputs": [],
   "source": [
    "train = pd.read_csv('./hc_final/train.csv')"
   ]
  },
  {
   "cell_type": "code",
   "execution_count": 20,
   "metadata": {
    "collapsed": false
   },
   "outputs": [],
   "source": [
    "train = train.rename(columns={train.columns[0]: 'ID'})"
   ]
  },
  {
   "cell_type": "code",
   "execution_count": 21,
   "metadata": {
    "collapsed": false
   },
   "outputs": [
    {
     "data": {
      "text/html": [
       "<div>\n",
       "<table border=\"1\" class=\"dataframe\">\n",
       "  <thead>\n",
       "    <tr style=\"text-align: right;\">\n",
       "      <th></th>\n",
       "      <th>ID</th>\n",
       "      <th>SK_DATE_DECISION</th>\n",
       "      <th>DEF</th>\n",
       "      <th>NUM_SOURCE</th>\n",
       "      <th>CREDIT_ACTIVE</th>\n",
       "      <th>CREDIT_COLLATERAL</th>\n",
       "      <th>CREDIT_CURRENCY</th>\n",
       "      <th>DTIME_CREDIT</th>\n",
       "      <th>CREDIT_DAY_OVERDUE</th>\n",
       "      <th>DTIME_CREDIT_ENDDATE</th>\n",
       "      <th>...</th>\n",
       "      <th>CREDIT_DELAY90</th>\n",
       "      <th>CREDIT_DELAY_MORE</th>\n",
       "      <th>AMT_REQ_SOURCE_HOUR</th>\n",
       "      <th>AMT_REQ_SOURCE_DAY</th>\n",
       "      <th>AMT_REQ_SOURCE_WEEK</th>\n",
       "      <th>AMT_REQ_SOURCE_MON</th>\n",
       "      <th>AMT_REQ_SOURCE_QRT</th>\n",
       "      <th>AMT_REQ_SOURCE_YEAR</th>\n",
       "      <th>AMT_ANNUITY</th>\n",
       "      <th>TEXT_PAYMENT_DISCIPLINE</th>\n",
       "    </tr>\n",
       "  </thead>\n",
       "  <tbody>\n",
       "    <tr>\n",
       "      <th>0</th>\n",
       "      <td>24368</td>\n",
       "      <td>20150901</td>\n",
       "      <td>0</td>\n",
       "      <td>1</td>\n",
       "      <td>0</td>\n",
       "      <td>0</td>\n",
       "      <td>rur</td>\n",
       "      <td>27.03.2011</td>\n",
       "      <td>0</td>\n",
       "      <td>27.01.2012</td>\n",
       "      <td>...</td>\n",
       "      <td>0</td>\n",
       "      <td>0</td>\n",
       "      <td>0</td>\n",
       "      <td>0</td>\n",
       "      <td>0</td>\n",
       "      <td>0</td>\n",
       "      <td>0</td>\n",
       "      <td>3</td>\n",
       "      <td>0.0</td>\n",
       "      <td>CCCCCCCCCCCCCCCCCCCCCCCCCCCCCCCCCCCCCCCCCCCCC0...</td>\n",
       "    </tr>\n",
       "    <tr>\n",
       "      <th>1</th>\n",
       "      <td>24368</td>\n",
       "      <td>20150901</td>\n",
       "      <td>0</td>\n",
       "      <td>3</td>\n",
       "      <td>0</td>\n",
       "      <td>0</td>\n",
       "      <td>rur</td>\n",
       "      <td>03.11.2011</td>\n",
       "      <td>0</td>\n",
       "      <td>30.11.2014</td>\n",
       "      <td>...</td>\n",
       "      <td>0</td>\n",
       "      <td>0</td>\n",
       "      <td>0</td>\n",
       "      <td>0</td>\n",
       "      <td>0</td>\n",
       "      <td>0</td>\n",
       "      <td>0</td>\n",
       "      <td>3</td>\n",
       "      <td>0.0</td>\n",
       "      <td>CCCCCCCCCCCCCC0X000000000000000000000XXXXXXXXXX</td>\n",
       "    </tr>\n",
       "    <tr>\n",
       "      <th>2</th>\n",
       "      <td>24368</td>\n",
       "      <td>20150901</td>\n",
       "      <td>0</td>\n",
       "      <td>4</td>\n",
       "      <td>0</td>\n",
       "      <td>0</td>\n",
       "      <td>rur</td>\n",
       "      <td>03.11.2011</td>\n",
       "      <td>0</td>\n",
       "      <td>30.11.2014</td>\n",
       "      <td>...</td>\n",
       "      <td>0</td>\n",
       "      <td>0</td>\n",
       "      <td>0</td>\n",
       "      <td>0</td>\n",
       "      <td>0</td>\n",
       "      <td>0</td>\n",
       "      <td>0</td>\n",
       "      <td>3</td>\n",
       "      <td>NaN</td>\n",
       "      <td>CCCCCCCCCCCCCC000000000000000000000000XXXXXXXXX</td>\n",
       "    </tr>\n",
       "    <tr>\n",
       "      <th>3</th>\n",
       "      <td>24368</td>\n",
       "      <td>20150901</td>\n",
       "      <td>0</td>\n",
       "      <td>3</td>\n",
       "      <td>0</td>\n",
       "      <td>0</td>\n",
       "      <td>rur</td>\n",
       "      <td>24.02.2012</td>\n",
       "      <td>0</td>\n",
       "      <td>21.02.2014</td>\n",
       "      <td>...</td>\n",
       "      <td>0</td>\n",
       "      <td>0</td>\n",
       "      <td>0</td>\n",
       "      <td>0</td>\n",
       "      <td>0</td>\n",
       "      <td>0</td>\n",
       "      <td>0</td>\n",
       "      <td>3</td>\n",
       "      <td>NaN</td>\n",
       "      <td>CCCCCCCCCCCCCCCCCCCCX0X0XX00000X00X0XX0X00XX</td>\n",
       "    </tr>\n",
       "    <tr>\n",
       "      <th>4</th>\n",
       "      <td>24368</td>\n",
       "      <td>20150901</td>\n",
       "      <td>0</td>\n",
       "      <td>4</td>\n",
       "      <td>0</td>\n",
       "      <td>0</td>\n",
       "      <td>rur</td>\n",
       "      <td>24.02.2012</td>\n",
       "      <td>0</td>\n",
       "      <td>21.02.2014</td>\n",
       "      <td>...</td>\n",
       "      <td>0</td>\n",
       "      <td>0</td>\n",
       "      <td>0</td>\n",
       "      <td>0</td>\n",
       "      <td>0</td>\n",
       "      <td>0</td>\n",
       "      <td>0</td>\n",
       "      <td>3</td>\n",
       "      <td>NaN</td>\n",
       "      <td>CCCCCCCCCCCCCCCCCCCC000000000000000000000000</td>\n",
       "    </tr>\n",
       "  </tbody>\n",
       "</table>\n",
       "<p>5 rows × 34 columns</p>\n",
       "</div>"
      ],
      "text/plain": [
       "      ID  SK_DATE_DECISION  DEF  NUM_SOURCE  CREDIT_ACTIVE  CREDIT_COLLATERAL  \\\n",
       "0  24368          20150901    0           1              0                  0   \n",
       "1  24368          20150901    0           3              0                  0   \n",
       "2  24368          20150901    0           4              0                  0   \n",
       "3  24368          20150901    0           3              0                  0   \n",
       "4  24368          20150901    0           4              0                  0   \n",
       "\n",
       "  CREDIT_CURRENCY DTIME_CREDIT  CREDIT_DAY_OVERDUE DTIME_CREDIT_ENDDATE  \\\n",
       "0             rur   27.03.2011                   0           27.01.2012   \n",
       "1             rur   03.11.2011                   0           30.11.2014   \n",
       "2             rur   03.11.2011                   0           30.11.2014   \n",
       "3             rur   24.02.2012                   0           21.02.2014   \n",
       "4             rur   24.02.2012                   0           21.02.2014   \n",
       "\n",
       "                         ...                         CREDIT_DELAY90  \\\n",
       "0                        ...                                      0   \n",
       "1                        ...                                      0   \n",
       "2                        ...                                      0   \n",
       "3                        ...                                      0   \n",
       "4                        ...                                      0   \n",
       "\n",
       "   CREDIT_DELAY_MORE  AMT_REQ_SOURCE_HOUR  AMT_REQ_SOURCE_DAY  \\\n",
       "0                  0                    0                   0   \n",
       "1                  0                    0                   0   \n",
       "2                  0                    0                   0   \n",
       "3                  0                    0                   0   \n",
       "4                  0                    0                   0   \n",
       "\n",
       "   AMT_REQ_SOURCE_WEEK  AMT_REQ_SOURCE_MON  AMT_REQ_SOURCE_QRT  \\\n",
       "0                    0                   0                   0   \n",
       "1                    0                   0                   0   \n",
       "2                    0                   0                   0   \n",
       "3                    0                   0                   0   \n",
       "4                    0                   0                   0   \n",
       "\n",
       "   AMT_REQ_SOURCE_YEAR  AMT_ANNUITY  \\\n",
       "0                    3          0.0   \n",
       "1                    3          0.0   \n",
       "2                    3          NaN   \n",
       "3                    3          NaN   \n",
       "4                    3          NaN   \n",
       "\n",
       "                             TEXT_PAYMENT_DISCIPLINE  \n",
       "0  CCCCCCCCCCCCCCCCCCCCCCCCCCCCCCCCCCCCCCCCCCCCC0...  \n",
       "1    CCCCCCCCCCCCCC0X000000000000000000000XXXXXXXXXX  \n",
       "2    CCCCCCCCCCCCCC000000000000000000000000XXXXXXXXX  \n",
       "3       CCCCCCCCCCCCCCCCCCCCX0X0XX00000X00X0XX0X00XX  \n",
       "4       CCCCCCCCCCCCCCCCCCCC000000000000000000000000  \n",
       "\n",
       "[5 rows x 34 columns]"
      ]
     },
     "execution_count": 21,
     "metadata": {},
     "output_type": "execute_result"
    }
   ],
   "source": [
    "train.head()"
   ]
  },
  {
   "cell_type": "code",
   "execution_count": 93,
   "metadata": {
    "collapsed": false
   },
   "outputs": [
    {
     "data": {
      "text/plain": [
       "ID                                    int64\n",
       "SK_DATE_DECISION             datetime64[ns]\n",
       "NUM_SOURCE                            int64\n",
       "CREDIT_ACTIVE                         int64\n",
       "CREDIT_COLLATERAL                     int64\n",
       "CREDIT_CURRENCY                      object\n",
       "DTIME_CREDIT                 datetime64[ns]\n",
       "CREDIT_DAY_OVERDUE                    int64\n",
       "DTIME_CREDIT_ENDDATE         datetime64[ns]\n",
       "DTIME_CREDIT_ENDDATE_FACT    datetime64[ns]\n",
       "CREDIT_FACILITY                     float64\n",
       "AMT_CREDIT_MAX_OVERDUE              float64\n",
       "CNT_CREDIT_PROLONG                    int64\n",
       "AMT_CREDIT_SUM                      float64\n",
       "AMT_CREDIT_SUM_DEBT                 float64\n",
       "AMT_CREDIT_SUM_LIMIT                float64\n",
       "AMT_CREDIT_SUM_OVERDUE              float64\n",
       "CREDIT_SUM_TYPE                       int64\n",
       "CREDIT_TYPE                           int64\n",
       "DTIME_CREDIT_UPDATE                  object\n",
       "CREDIT_DELAY30                        int64\n",
       "CREDIT_DELAY5                         int64\n",
       "CREDIT_DELAY60                        int64\n",
       "CREDIT_DELAY90                        int64\n",
       "CREDIT_DELAY_MORE                     int64\n",
       "AMT_REQ_SOURCE_HOUR                   int64\n",
       "AMT_REQ_SOURCE_DAY                    int64\n",
       "AMT_REQ_SOURCE_WEEK                   int64\n",
       "AMT_REQ_SOURCE_MON                    int64\n",
       "AMT_REQ_SOURCE_QRT                    int64\n",
       "AMT_REQ_SOURCE_YEAR                   int64\n",
       "AMT_ANNUITY                         float64\n",
       "TEXT_PAYMENT_DISCIPLINE              object\n",
       "dtype: object"
      ]
     },
     "execution_count": 93,
     "metadata": {},
     "output_type": "execute_result"
    }
   ],
   "source": [
    "train.dtypes"
   ]
  },
  {
   "cell_type": "markdown",
   "metadata": {},
   "source": [
    "* Переменные, характеризующие рассматриваемую заявку на кредит:\n",
    "    * ID - идентификатор заявки на кредит\n",
    "    * SK_DATE_DECISION - дата рассмотрения заявки\n",
    "    * DEF – целевая переменная\n",
    "        * 1 – кредит не был возвращен\n",
    "        * 0 – кредит был возвращен\n",
    "\n",
    "\n",
    "* Переменные – атрибуты кредита из кредитной истории:\n",
    "    * NUM_SOURCE - номер источника данных\n",
    "    * CREDIT_ACTIVE - статус кредитного договора\n",
    "        * 0 - договор закрыт\n",
    "        * 1 - договор активен\n",
    "        * 2 - договор продан\n",
    "        * 3 - безнадежный долг\n",
    "        * 4 - договор реструктурирован/ рефинансирован\n",
    "        * 5 - договор передан коллекторам\n",
    "        * 6 - договор заблокирован\n",
    "        * 7 - договор отменен\n",
    "        * 8 – прекращение информирования по договору\n",
    "        * 9 – заемщик освобожден от дальнейшего исполнения требований кредиторов по причине банкротства\n",
    "    * CREDIT_COLLATERAL - признак погашения за счет обеспечения / поручительства\n",
    "        * 1 - было такое погашение\n",
    "        * 0- нет\n",
    "    * CREDIT_CURRENCY валюта кредита\n",
    "        * 810 или RUR - рубль\n",
    "        * 840 или USD - американский доллар\n",
    "        * 978 или EUR - евро\n",
    "        * 756 или CHF - швейцарский франк\n",
    "        * 392 или JPY - японская йена\n",
    "    * DTIME_CREDIT - дата выдачи кредита\n",
    "    * CREDIT_DAY_OVERDUE - текущая просроченная задолженность, дни\n",
    "    * DTIME_CREDIT_ENDDATE -планируемая дата окончания кредита\n",
    "    * DTIME_CREDIT_ENDDATE_FACT - фактическая дата окончания кредита\n",
    "    * CREDIT_FACILITY – семантика поля неизвестна\n",
    "    * AMT_CREDIT_MAX_OVERDUE - максимальная просроченная задолженность за все время жизни договора, сумма\n",
    "    * CNT_CREDIT_PROLONG - число пролонгаций кредита\n",
    "    * AMT_CREDIT_SUM - сумма кредита\n",
    "    * AMT_CREDIT_SUM_DEBT - сумма оставшегося долга\n",
    "    * AMT_CREDIT_SUM_LIMIT – лимит (для карт)\n",
    "    * AMT_CREDIT_SUM_OVERDUE - текущая просроченная задолженность, сумма\n",
    "    * CREDIT_SUM_TYPE - тип задолженностей\n",
    "        * 0 - все задолженности по ОД\n",
    "        * 1 - полные суммы с %\n",
    "    * CREDIT_TYPE - тип договора\n",
    "        * 0 - неизвестный тип кредита\n",
    "        * 1 - кредит на автомобиль\n",
    "        * 2 - лизинг\n",
    "        * 3 - ипотека\n",
    "        * 4 - кредитная карта\n",
    "        * 5 - потребительский кредит\n",
    "        * 6 - кредит на развитие бизнеса\n",
    "        * 7 - кредит на пополнение оборотных средств\n",
    "        * 8 - кредит на покупку оборудования\n",
    "        * 9 - кредит на строительство недвижимости\n",
    "        * 10 - кредит на покупку акций (маржинальное кредитование)\n",
    "        * 11 - межбанковский кредит\n",
    "        * 12 - кредит мобильного оператора\n",
    "        * 13 - кредит на обучение\n",
    "        * 14 - дебетовая карта с овердрафтом\n",
    "        * 15 - ипотека (первичный рынок)\n",
    "        * 16 - ипотека (вторичный рынок)\n",
    "        * 17 - ипотека (ломбардный кредит)\n",
    "        * 18 - кредит наличными (нецелевой)\n",
    "        * 19 - микрозайм\n",
    "        * 90 - договор поручительства\n",
    "        * 99 - другой тип кредита\n",
    "    * DTIME_CREDIT_UPDATE - дата последнего обновления информации в источнике\n",
    "    * CREDIT_DELAY30 - число просроченных на 6..30 дней платежей\n",
    "    * CREDIT_DELAY5 - число просроченных на не более 5 дней платежей\n",
    "    * CREDIT_DELAY60 - число просроченных на 31..60 дней платежей\n",
    "    * CREDIT_DELAY90 - число просроченных на 61..90 дней платежей\n",
    "    * CREDIT_DELAY_MORE - число просроченных на 90+ дней платежей\n",
    "    * AMT_REQ_SOURCE_HOUR - число запросов к источнику за последний час\n",
    "    * AMT_REQ_SOURCE_DAY - число запросов к источнику за последний день (не считая последний час)\n",
    "    * AMT_REQ_SOURCE_WEEK - число запросов к источнику за последнюю неделю (не считая последний день)\n",
    "    * AMT_REQ_SOURCE_MON - число запросов к источнику за последний месяц (не считая последнюю неделю)\n",
    "    * AMT_REQ_SOURCE_QRT - число запросов к источнику за последний квартал (не считая последний месяц)\n",
    "    * AMT_REQ_SOURCE_YEAR - число запросов к источнику за последний год (не считая последний квартал)\n",
    "    * AMT_ANNUITY - сумма ежемесячного платежа\n",
    "    * TEXT_PAYMENT_DISCIPLINE - платежная строка, вектор статусов платежей по кредиту, возможные статусы:\n",
    "        * 0 – своевременный платеж\n",
    "        * 1 – просрочка 1..30 дней\n",
    "        * 2 – просрочка 31..60 дней\n",
    "        * 3 – просрочка 61..90 дней\n",
    "        * 4 – просрочка 91..120 дней\n",
    "        * 5 – просрочка 121+ дней, передан коллекторам, продан, списан\n",
    "        * X – статус неизвестен\n",
    "        * C – договор закрыт"
   ]
  },
  {
   "cell_type": "code",
   "execution_count": 94,
   "metadata": {
    "collapsed": false
   },
   "outputs": [
    {
     "data": {
      "image/png": "[encoded data removed]",
      "text/plain": [
       "<matplotlib.figure.Figure at 0x7f68d368fb90>"
      ]
     },
     "metadata": {},
     "output_type": "display_data"
    }
   ],
   "source": [
    "_ = train.hist(train.columns, bins=30, figsize=(20, 20))"
   ]
  },
  {
   "cell_type": "markdown",
   "metadata": {},
   "source": [
    "Проверим, что одному ID соответствует только по одному уникальному значению DEF:"
   ]
  },
  {
   "cell_type": "code",
   "execution_count": 24,
   "metadata": {
    "collapsed": false
   },
   "outputs": [
    {
     "data": {
      "text/plain": [
       "array([1])"
      ]
     },
     "execution_count": 24,
     "metadata": {},
     "output_type": "execute_result"
    }
   ],
   "source": [
    "train[['ID', 'DEF']].groupby('ID')['DEF'].nunique().unique()"
   ]
  },
  {
   "cell_type": "code",
   "execution_count": 28,
   "metadata": {
    "collapsed": false
   },
   "outputs": [],
   "source": [
    "y = train[['ID', 'DEF']].drop_duplicates().set_index('ID')"
   ]
  },
  {
   "cell_type": "code",
   "execution_count": 29,
   "metadata": {
    "collapsed": false
   },
   "outputs": [],
   "source": [
    "train.drop(['DEF'], inplace=True, axis=1)"
   ]
  },
  {
   "cell_type": "code",
   "execution_count": 30,
   "metadata": {
    "collapsed": false
   },
   "outputs": [
    {
     "name": "stdout",
     "output_type": "stream",
     "text": [
      "(1787571, 33) (135155, 1)\n"
     ]
    }
   ],
   "source": [
    "print train.shape, y.shape"
   ]
  },
  {
   "cell_type": "code",
   "execution_count": 31,
   "metadata": {
    "collapsed": false
   },
   "outputs": [
    {
     "data": {
      "text/plain": [
       "0    130624\n",
       "1      4531\n",
       "Name: DEF, dtype: int64"
      ]
     },
     "execution_count": 31,
     "metadata": {},
     "output_type": "execute_result"
    }
   ],
   "source": [
    "y['DEF'].value_counts()"
   ]
  },
  {
   "cell_type": "markdown",
   "metadata": {},
   "source": [
    "Классы довольно несбалансированы."
   ]
  },
  {
   "cell_type": "code",
   "execution_count": 54,
   "metadata": {
    "collapsed": false
   },
   "outputs": [
    {
     "data": {
      "text/plain": [
       "array([ nan,   9.,   0.,   2.,   1.])"
      ]
     },
     "execution_count": 54,
     "metadata": {},
     "output_type": "execute_result"
    }
   ],
   "source": [
    "train['CREDIT_FACILITY'].unique()"
   ]
  },
  {
   "cell_type": "code",
   "execution_count": 69,
   "metadata": {
    "collapsed": false
   },
   "outputs": [
    {
     "data": {
      "text/plain": [
       "Counter({0.0: 1802, 1.0: 30, 2.0: 516, 9.0: 53277})"
      ]
     },
     "execution_count": 69,
     "metadata": {},
     "output_type": "execute_result"
    }
   ],
   "source": [
    "from collections import Counter\n",
    "Counter(train['CREDIT_FACILITY'].dropna())"
   ]
  },
  {
   "cell_type": "code",
   "execution_count": 63,
   "metadata": {
    "collapsed": false
   },
   "outputs": [
    {
     "data": {
      "text/plain": [
       "1787571"
      ]
     },
     "execution_count": 63,
     "metadata": {},
     "output_type": "execute_result"
    }
   ],
   "source": [
    "train.shape[0]"
   ]
  },
  {
   "cell_type": "code",
   "execution_count": 39,
   "metadata": {
    "collapsed": false
   },
   "outputs": [
    {
     "data": {
      "text/plain": [
       "DTIME_CREDIT_ENDDATE           91370\n",
       "DTIME_CREDIT_ENDDATE_FACT     571487\n",
       "CREDIT_FACILITY              1731946\n",
       "AMT_CREDIT_MAX_OVERDUE       1323482\n",
       "AMT_CREDIT_SUM                    29\n",
       "AMT_CREDIT_SUM_DEBT           208766\n",
       "AMT_CREDIT_SUM_LIMIT          782106\n",
       "AMT_ANNUITY                   475829\n",
       "TEXT_PAYMENT_DISCIPLINE         1947\n",
       "dtype: int64"
      ]
     },
     "execution_count": 39,
     "metadata": {},
     "output_type": "execute_result"
    }
   ],
   "source": [
    "tmp = train.isnull().sum()\n",
    "tmp[tmp >= 1]"
   ]
  },
  {
   "cell_type": "code",
   "execution_count": null,
   "metadata": {
    "collapsed": true
   },
   "outputs": [],
   "source": [
    "train."
   ]
  },
  {
   "cell_type": "markdown",
   "metadata": {},
   "source": [
    "Поля, имеющие пропуски:\n",
    "* DTIME_CREDIT_ENDDATE -планируемая дата окончания кредита\n",
    "* DTIME_CREDIT_ENDDATE_FACT - фактическая дата окончания кредита\n",
    "* CREDIT_FACILITY – семантика поля неизвестна\n",
    "* AMT_CREDIT_MAX_OVERDUE - максимальная просроченная задолженность за все время жизни договора, сумма\n",
    "* AMT_CREDIT_SUM_DEBT - сумма оставшегося долга\n",
    "* AMT_CREDIT_SUM_LIMIT – лимит (для карт)\n",
    "* AMT_ANNUITY - сумма ежемесячного платежа\n",
    "* TEXT_PAYMENT_DISCIPLINE - платежная строка, вектор статусов платежей по кредиту, возможные статусы:\n",
    "    * 0 – своевременный платеж\n",
    "    * 1 – просрочка 1..30 дней\n",
    "    *    2 – просрочка 31..60 дней\n",
    "    *    3 – просрочка 61..90 дней\n",
    "    *    4 – просрочка 91..120 дней\n",
    "    *    5 – просрочка 121+ дней, передан коллекторам, продан, списан\n",
    "    *    X – статус неизвестен\n",
    "    *    C – договор закрыт"
   ]
  },
  {
   "cell_type": "markdown",
   "metadata": {},
   "source": [
    "Пропуски в данных в основном следуют из-за пропусков в датах"
   ]
  },
  {
   "cell_type": "code",
   "execution_count": 44,
   "metadata": {
    "collapsed": false
   },
   "outputs": [],
   "source": [
    "transofrm_to_date(train, ['SK_DATE_DECISION', 'DTIME_CREDIT', 'DTIME_CREDIT_ENDDATE', 'DTIME_CREDIT_ENDDATE_FACT'])"
   ]
  },
  {
   "cell_type": "code",
   "execution_count": 45,
   "metadata": {
    "collapsed": false
   },
   "outputs": [
    {
     "data": {
      "text/html": [
       "<div>\n",
       "<table border=\"1\" class=\"dataframe\">\n",
       "  <thead>\n",
       "    <tr style=\"text-align: right;\">\n",
       "      <th></th>\n",
       "      <th>ID</th>\n",
       "      <th>SK_DATE_DECISION</th>\n",
       "      <th>NUM_SOURCE</th>\n",
       "      <th>CREDIT_ACTIVE</th>\n",
       "      <th>CREDIT_COLLATERAL</th>\n",
       "      <th>CREDIT_CURRENCY</th>\n",
       "      <th>DTIME_CREDIT</th>\n",
       "      <th>CREDIT_DAY_OVERDUE</th>\n",
       "      <th>DTIME_CREDIT_ENDDATE</th>\n",
       "      <th>DTIME_CREDIT_ENDDATE_FACT</th>\n",
       "      <th>...</th>\n",
       "      <th>CREDIT_DELAY90</th>\n",
       "      <th>CREDIT_DELAY_MORE</th>\n",
       "      <th>AMT_REQ_SOURCE_HOUR</th>\n",
       "      <th>AMT_REQ_SOURCE_DAY</th>\n",
       "      <th>AMT_REQ_SOURCE_WEEK</th>\n",
       "      <th>AMT_REQ_SOURCE_MON</th>\n",
       "      <th>AMT_REQ_SOURCE_QRT</th>\n",
       "      <th>AMT_REQ_SOURCE_YEAR</th>\n",
       "      <th>AMT_ANNUITY</th>\n",
       "      <th>TEXT_PAYMENT_DISCIPLINE</th>\n",
       "    </tr>\n",
       "  </thead>\n",
       "  <tbody>\n",
       "    <tr>\n",
       "      <th>0</th>\n",
       "      <td>24368</td>\n",
       "      <td>2015-09-01</td>\n",
       "      <td>1</td>\n",
       "      <td>0</td>\n",
       "      <td>0</td>\n",
       "      <td>rur</td>\n",
       "      <td>2011-03-27</td>\n",
       "      <td>0</td>\n",
       "      <td>2012-01-27</td>\n",
       "      <td>2012-01-25</td>\n",
       "      <td>...</td>\n",
       "      <td>0</td>\n",
       "      <td>0</td>\n",
       "      <td>0</td>\n",
       "      <td>0</td>\n",
       "      <td>0</td>\n",
       "      <td>0</td>\n",
       "      <td>0</td>\n",
       "      <td>3</td>\n",
       "      <td>0.0</td>\n",
       "      <td>CCCCCCCCCCCCCCCCCCCCCCCCCCCCCCCCCCCCCCCCCCCCC0...</td>\n",
       "    </tr>\n",
       "    <tr>\n",
       "      <th>1</th>\n",
       "      <td>24368</td>\n",
       "      <td>2015-09-01</td>\n",
       "      <td>3</td>\n",
       "      <td>0</td>\n",
       "      <td>0</td>\n",
       "      <td>rur</td>\n",
       "      <td>2011-11-03</td>\n",
       "      <td>0</td>\n",
       "      <td>2014-11-30</td>\n",
       "      <td>2014-08-04</td>\n",
       "      <td>...</td>\n",
       "      <td>0</td>\n",
       "      <td>0</td>\n",
       "      <td>0</td>\n",
       "      <td>0</td>\n",
       "      <td>0</td>\n",
       "      <td>0</td>\n",
       "      <td>0</td>\n",
       "      <td>3</td>\n",
       "      <td>0.0</td>\n",
       "      <td>CCCCCCCCCCCCCC0X000000000000000000000XXXXXXXXXX</td>\n",
       "    </tr>\n",
       "    <tr>\n",
       "      <th>2</th>\n",
       "      <td>24368</td>\n",
       "      <td>2015-09-01</td>\n",
       "      <td>4</td>\n",
       "      <td>0</td>\n",
       "      <td>0</td>\n",
       "      <td>rur</td>\n",
       "      <td>2011-11-03</td>\n",
       "      <td>0</td>\n",
       "      <td>2014-11-30</td>\n",
       "      <td>2014-08-04</td>\n",
       "      <td>...</td>\n",
       "      <td>0</td>\n",
       "      <td>0</td>\n",
       "      <td>0</td>\n",
       "      <td>0</td>\n",
       "      <td>0</td>\n",
       "      <td>0</td>\n",
       "      <td>0</td>\n",
       "      <td>3</td>\n",
       "      <td>NaN</td>\n",
       "      <td>CCCCCCCCCCCCCC000000000000000000000000XXXXXXXXX</td>\n",
       "    </tr>\n",
       "    <tr>\n",
       "      <th>3</th>\n",
       "      <td>24368</td>\n",
       "      <td>2015-09-01</td>\n",
       "      <td>3</td>\n",
       "      <td>0</td>\n",
       "      <td>0</td>\n",
       "      <td>rur</td>\n",
       "      <td>2012-02-24</td>\n",
       "      <td>0</td>\n",
       "      <td>2014-02-21</td>\n",
       "      <td>2014-02-21</td>\n",
       "      <td>...</td>\n",
       "      <td>0</td>\n",
       "      <td>0</td>\n",
       "      <td>0</td>\n",
       "      <td>0</td>\n",
       "      <td>0</td>\n",
       "      <td>0</td>\n",
       "      <td>0</td>\n",
       "      <td>3</td>\n",
       "      <td>NaN</td>\n",
       "      <td>CCCCCCCCCCCCCCCCCCCCX0X0XX00000X00X0XX0X00XX</td>\n",
       "    </tr>\n",
       "    <tr>\n",
       "      <th>4</th>\n",
       "      <td>24368</td>\n",
       "      <td>2015-09-01</td>\n",
       "      <td>4</td>\n",
       "      <td>0</td>\n",
       "      <td>0</td>\n",
       "      <td>rur</td>\n",
       "      <td>2012-02-24</td>\n",
       "      <td>0</td>\n",
       "      <td>2014-02-21</td>\n",
       "      <td>2014-02-21</td>\n",
       "      <td>...</td>\n",
       "      <td>0</td>\n",
       "      <td>0</td>\n",
       "      <td>0</td>\n",
       "      <td>0</td>\n",
       "      <td>0</td>\n",
       "      <td>0</td>\n",
       "      <td>0</td>\n",
       "      <td>3</td>\n",
       "      <td>NaN</td>\n",
       "      <td>CCCCCCCCCCCCCCCCCCCC000000000000000000000000</td>\n",
       "    </tr>\n",
       "  </tbody>\n",
       "</table>\n",
       "<p>5 rows × 33 columns</p>\n",
       "</div>"
      ],
      "text/plain": [
       "      ID SK_DATE_DECISION  NUM_SOURCE  CREDIT_ACTIVE  CREDIT_COLLATERAL  \\\n",
       "0  24368       2015-09-01           1              0                  0   \n",
       "1  24368       2015-09-01           3              0                  0   \n",
       "2  24368       2015-09-01           4              0                  0   \n",
       "3  24368       2015-09-01           3              0                  0   \n",
       "4  24368       2015-09-01           4              0                  0   \n",
       "\n",
       "  CREDIT_CURRENCY DTIME_CREDIT  CREDIT_DAY_OVERDUE DTIME_CREDIT_ENDDATE  \\\n",
       "0             rur   2011-03-27                   0           2012-01-27   \n",
       "1             rur   2011-11-03                   0           2014-11-30   \n",
       "2             rur   2011-11-03                   0           2014-11-30   \n",
       "3             rur   2012-02-24                   0           2014-02-21   \n",
       "4             rur   2012-02-24                   0           2014-02-21   \n",
       "\n",
       "  DTIME_CREDIT_ENDDATE_FACT  \\\n",
       "0                2012-01-25   \n",
       "1                2014-08-04   \n",
       "2                2014-08-04   \n",
       "3                2014-02-21   \n",
       "4                2014-02-21   \n",
       "\n",
       "                         ...                          CREDIT_DELAY90  \\\n",
       "0                        ...                                       0   \n",
       "1                        ...                                       0   \n",
       "2                        ...                                       0   \n",
       "3                        ...                                       0   \n",
       "4                        ...                                       0   \n",
       "\n",
       "   CREDIT_DELAY_MORE  AMT_REQ_SOURCE_HOUR  AMT_REQ_SOURCE_DAY  \\\n",
       "0                  0                    0                   0   \n",
       "1                  0                    0                   0   \n",
       "2                  0                    0                   0   \n",
       "3                  0                    0                   0   \n",
       "4                  0                    0                   0   \n",
       "\n",
       "   AMT_REQ_SOURCE_WEEK  AMT_REQ_SOURCE_MON  AMT_REQ_SOURCE_QRT  \\\n",
       "0                    0                   0                   0   \n",
       "1                    0                   0                   0   \n",
       "2                    0                   0                   0   \n",
       "3                    0                   0                   0   \n",
       "4                    0                   0                   0   \n",
       "\n",
       "   AMT_REQ_SOURCE_YEAR  AMT_ANNUITY  \\\n",
       "0                    3          0.0   \n",
       "1                    3          0.0   \n",
       "2                    3          NaN   \n",
       "3                    3          NaN   \n",
       "4                    3          NaN   \n",
       "\n",
       "                             TEXT_PAYMENT_DISCIPLINE  \n",
       "0  CCCCCCCCCCCCCCCCCCCCCCCCCCCCCCCCCCCCCCCCCCCCC0...  \n",
       "1    CCCCCCCCCCCCCC0X000000000000000000000XXXXXXXXXX  \n",
       "2    CCCCCCCCCCCCCC000000000000000000000000XXXXXXXXX  \n",
       "3       CCCCCCCCCCCCCCCCCCCCX0X0XX00000X00X0XX0X00XX  \n",
       "4       CCCCCCCCCCCCCCCCCCCC000000000000000000000000  \n",
       "\n",
       "[5 rows x 33 columns]"
      ]
     },
     "execution_count": 45,
     "metadata": {},
     "output_type": "execute_result"
    }
   ],
   "source": [
    "train.head()"
   ]
  },
  {
   "cell_type": "code",
   "execution_count": 79,
   "metadata": {
    "collapsed": false,
    "scrolled": true
   },
   "outputs": [
    {
     "data": {
      "text/html": [
       "<div>\n",
       "<table border=\"1\" class=\"dataframe\">\n",
       "  <thead>\n",
       "    <tr style=\"text-align: right;\">\n",
       "      <th></th>\n",
       "      <th>SK_DATE_DECISION</th>\n",
       "      <th>DTIME_CREDIT_ENDDATE</th>\n",
       "      <th>DTIME_CREDIT_ENDDATE_FACT</th>\n",
       "      <th>CREDIT_DAY_OVERDUE</th>\n",
       "    </tr>\n",
       "  </thead>\n",
       "  <tbody>\n",
       "    <tr>\n",
       "      <th>0</th>\n",
       "      <td>2015-09-01</td>\n",
       "      <td>2012-01-27</td>\n",
       "      <td>2012-01-25</td>\n",
       "      <td>0</td>\n",
       "    </tr>\n",
       "    <tr>\n",
       "      <th>1</th>\n",
       "      <td>2015-09-01</td>\n",
       "      <td>2014-11-30</td>\n",
       "      <td>2014-08-04</td>\n",
       "      <td>0</td>\n",
       "    </tr>\n",
       "    <tr>\n",
       "      <th>2</th>\n",
       "      <td>2015-09-01</td>\n",
       "      <td>2014-11-30</td>\n",
       "      <td>2014-08-04</td>\n",
       "      <td>0</td>\n",
       "    </tr>\n",
       "    <tr>\n",
       "      <th>3</th>\n",
       "      <td>2015-09-01</td>\n",
       "      <td>2014-02-21</td>\n",
       "      <td>2014-02-21</td>\n",
       "      <td>0</td>\n",
       "    </tr>\n",
       "    <tr>\n",
       "      <th>4</th>\n",
       "      <td>2015-09-01</td>\n",
       "      <td>2014-02-21</td>\n",
       "      <td>2014-02-21</td>\n",
       "      <td>0</td>\n",
       "    </tr>\n",
       "    <tr>\n",
       "      <th>5</th>\n",
       "      <td>2015-09-01</td>\n",
       "      <td>2015-03-17</td>\n",
       "      <td>NaT</td>\n",
       "      <td>0</td>\n",
       "    </tr>\n",
       "    <tr>\n",
       "      <th>6</th>\n",
       "      <td>2015-09-01</td>\n",
       "      <td>2015-03-17</td>\n",
       "      <td>2015-04-07</td>\n",
       "      <td>0</td>\n",
       "    </tr>\n",
       "    <tr>\n",
       "      <th>7</th>\n",
       "      <td>2015-09-01</td>\n",
       "      <td>NaT</td>\n",
       "      <td>2015-06-15</td>\n",
       "      <td>0</td>\n",
       "    </tr>\n",
       "    <tr>\n",
       "      <th>8</th>\n",
       "      <td>2015-09-01</td>\n",
       "      <td>NaT</td>\n",
       "      <td>NaT</td>\n",
       "      <td>0</td>\n",
       "    </tr>\n",
       "    <tr>\n",
       "      <th>9</th>\n",
       "      <td>2015-09-01</td>\n",
       "      <td>2017-06-16</td>\n",
       "      <td>NaT</td>\n",
       "      <td>0</td>\n",
       "    </tr>\n",
       "    <tr>\n",
       "      <th>10</th>\n",
       "      <td>2015-09-01</td>\n",
       "      <td>NaT</td>\n",
       "      <td>2015-07-20</td>\n",
       "      <td>0</td>\n",
       "    </tr>\n",
       "    <tr>\n",
       "      <th>11</th>\n",
       "      <td>2015-09-01</td>\n",
       "      <td>NaT</td>\n",
       "      <td>NaT</td>\n",
       "      <td>0</td>\n",
       "    </tr>\n",
       "    <tr>\n",
       "      <th>12</th>\n",
       "      <td>2015-09-01</td>\n",
       "      <td>2007-05-14</td>\n",
       "      <td>2008-05-24</td>\n",
       "      <td>0</td>\n",
       "    </tr>\n",
       "    <tr>\n",
       "      <th>13</th>\n",
       "      <td>2015-09-01</td>\n",
       "      <td>2008-06-04</td>\n",
       "      <td>NaT</td>\n",
       "      <td>120</td>\n",
       "    </tr>\n",
       "    <tr>\n",
       "      <th>14</th>\n",
       "      <td>2015-09-01</td>\n",
       "      <td>2007-05-14</td>\n",
       "      <td>2008-05-22</td>\n",
       "      <td>0</td>\n",
       "    </tr>\n",
       "    <tr>\n",
       "      <th>15</th>\n",
       "      <td>2015-09-01</td>\n",
       "      <td>2007-05-14</td>\n",
       "      <td>2008-05-22</td>\n",
       "      <td>0</td>\n",
       "    </tr>\n",
       "    <tr>\n",
       "      <th>16</th>\n",
       "      <td>2015-09-01</td>\n",
       "      <td>2012-08-07</td>\n",
       "      <td>2011-08-08</td>\n",
       "      <td>0</td>\n",
       "    </tr>\n",
       "    <tr>\n",
       "      <th>17</th>\n",
       "      <td>2015-09-01</td>\n",
       "      <td>2013-04-30</td>\n",
       "      <td>NaT</td>\n",
       "      <td>0</td>\n",
       "    </tr>\n",
       "    <tr>\n",
       "      <th>18</th>\n",
       "      <td>2015-09-01</td>\n",
       "      <td>2099-12-31</td>\n",
       "      <td>NaT</td>\n",
       "      <td>0</td>\n",
       "    </tr>\n",
       "    <tr>\n",
       "      <th>19</th>\n",
       "      <td>2015-09-01</td>\n",
       "      <td>2099-12-31</td>\n",
       "      <td>2014-06-18</td>\n",
       "      <td>0</td>\n",
       "    </tr>\n",
       "    <tr>\n",
       "      <th>20</th>\n",
       "      <td>2015-09-01</td>\n",
       "      <td>NaT</td>\n",
       "      <td>2014-06-18</td>\n",
       "      <td>0</td>\n",
       "    </tr>\n",
       "    <tr>\n",
       "      <th>21</th>\n",
       "      <td>2015-09-01</td>\n",
       "      <td>2014-12-24</td>\n",
       "      <td>2013-11-06</td>\n",
       "      <td>0</td>\n",
       "    </tr>\n",
       "    <tr>\n",
       "      <th>22</th>\n",
       "      <td>2015-09-01</td>\n",
       "      <td>2007-10-03</td>\n",
       "      <td>2007-10-04</td>\n",
       "      <td>0</td>\n",
       "    </tr>\n",
       "    <tr>\n",
       "      <th>23</th>\n",
       "      <td>2015-09-01</td>\n",
       "      <td>2007-10-03</td>\n",
       "      <td>2007-10-03</td>\n",
       "      <td>0</td>\n",
       "    </tr>\n",
       "    <tr>\n",
       "      <th>24</th>\n",
       "      <td>2015-09-01</td>\n",
       "      <td>2008-07-28</td>\n",
       "      <td>2008-07-28</td>\n",
       "      <td>0</td>\n",
       "    </tr>\n",
       "    <tr>\n",
       "      <th>25</th>\n",
       "      <td>2015-09-01</td>\n",
       "      <td>2008-07-28</td>\n",
       "      <td>2008-07-28</td>\n",
       "      <td>0</td>\n",
       "    </tr>\n",
       "    <tr>\n",
       "      <th>26</th>\n",
       "      <td>2015-09-01</td>\n",
       "      <td>2015-05-13</td>\n",
       "      <td>2013-01-09</td>\n",
       "      <td>0</td>\n",
       "    </tr>\n",
       "    <tr>\n",
       "      <th>27</th>\n",
       "      <td>2015-09-01</td>\n",
       "      <td>2013-12-31</td>\n",
       "      <td>2013-12-03</td>\n",
       "      <td>0</td>\n",
       "    </tr>\n",
       "    <tr>\n",
       "      <th>28</th>\n",
       "      <td>2015-09-01</td>\n",
       "      <td>2015-09-12</td>\n",
       "      <td>NaT</td>\n",
       "      <td>0</td>\n",
       "    </tr>\n",
       "    <tr>\n",
       "      <th>29</th>\n",
       "      <td>2015-09-01</td>\n",
       "      <td>2015-09-12</td>\n",
       "      <td>NaT</td>\n",
       "      <td>0</td>\n",
       "    </tr>\n",
       "    <tr>\n",
       "      <th>...</th>\n",
       "      <td>...</td>\n",
       "      <td>...</td>\n",
       "      <td>...</td>\n",
       "      <td>...</td>\n",
       "    </tr>\n",
       "    <tr>\n",
       "      <th>1787541</th>\n",
       "      <td>2016-02-29</td>\n",
       "      <td>2015-08-27</td>\n",
       "      <td>2015-08-27</td>\n",
       "      <td>0</td>\n",
       "    </tr>\n",
       "    <tr>\n",
       "      <th>1787542</th>\n",
       "      <td>2016-02-29</td>\n",
       "      <td>2014-12-29</td>\n",
       "      <td>2014-07-28</td>\n",
       "      <td>0</td>\n",
       "    </tr>\n",
       "    <tr>\n",
       "      <th>1787543</th>\n",
       "      <td>2016-02-29</td>\n",
       "      <td>2014-12-29</td>\n",
       "      <td>2014-07-28</td>\n",
       "      <td>0</td>\n",
       "    </tr>\n",
       "    <tr>\n",
       "      <th>1787544</th>\n",
       "      <td>2016-02-29</td>\n",
       "      <td>2015-11-26</td>\n",
       "      <td>2015-08-26</td>\n",
       "      <td>0</td>\n",
       "    </tr>\n",
       "    <tr>\n",
       "      <th>1787545</th>\n",
       "      <td>2016-02-29</td>\n",
       "      <td>2015-11-26</td>\n",
       "      <td>2015-08-26</td>\n",
       "      <td>0</td>\n",
       "    </tr>\n",
       "    <tr>\n",
       "      <th>1787546</th>\n",
       "      <td>2016-02-29</td>\n",
       "      <td>2015-11-26</td>\n",
       "      <td>2015-08-26</td>\n",
       "      <td>0</td>\n",
       "    </tr>\n",
       "    <tr>\n",
       "      <th>1787547</th>\n",
       "      <td>2016-02-29</td>\n",
       "      <td>2015-11-26</td>\n",
       "      <td>2015-08-26</td>\n",
       "      <td>0</td>\n",
       "    </tr>\n",
       "    <tr>\n",
       "      <th>1787548</th>\n",
       "      <td>2016-02-29</td>\n",
       "      <td>2011-09-23</td>\n",
       "      <td>2011-09-30</td>\n",
       "      <td>0</td>\n",
       "    </tr>\n",
       "    <tr>\n",
       "      <th>1787549</th>\n",
       "      <td>2016-02-29</td>\n",
       "      <td>2011-09-23</td>\n",
       "      <td>2011-09-23</td>\n",
       "      <td>0</td>\n",
       "    </tr>\n",
       "    <tr>\n",
       "      <th>1787550</th>\n",
       "      <td>2016-02-29</td>\n",
       "      <td>2011-09-23</td>\n",
       "      <td>2011-09-23</td>\n",
       "      <td>0</td>\n",
       "    </tr>\n",
       "    <tr>\n",
       "      <th>1787551</th>\n",
       "      <td>2016-02-29</td>\n",
       "      <td>2012-02-28</td>\n",
       "      <td>2012-02-29</td>\n",
       "      <td>0</td>\n",
       "    </tr>\n",
       "    <tr>\n",
       "      <th>1787552</th>\n",
       "      <td>2016-02-29</td>\n",
       "      <td>2012-02-28</td>\n",
       "      <td>2012-02-28</td>\n",
       "      <td>0</td>\n",
       "    </tr>\n",
       "    <tr>\n",
       "      <th>1787553</th>\n",
       "      <td>2016-02-29</td>\n",
       "      <td>2012-02-28</td>\n",
       "      <td>2012-02-28</td>\n",
       "      <td>0</td>\n",
       "    </tr>\n",
       "    <tr>\n",
       "      <th>1787554</th>\n",
       "      <td>2016-02-29</td>\n",
       "      <td>2014-01-17</td>\n",
       "      <td>2014-01-18</td>\n",
       "      <td>0</td>\n",
       "    </tr>\n",
       "    <tr>\n",
       "      <th>1787555</th>\n",
       "      <td>2016-02-29</td>\n",
       "      <td>2014-01-17</td>\n",
       "      <td>2014-01-18</td>\n",
       "      <td>0</td>\n",
       "    </tr>\n",
       "    <tr>\n",
       "      <th>1787556</th>\n",
       "      <td>2016-02-29</td>\n",
       "      <td>2015-09-10</td>\n",
       "      <td>2015-09-15</td>\n",
       "      <td>0</td>\n",
       "    </tr>\n",
       "    <tr>\n",
       "      <th>1787557</th>\n",
       "      <td>2016-02-29</td>\n",
       "      <td>2015-09-10</td>\n",
       "      <td>2015-09-15</td>\n",
       "      <td>0</td>\n",
       "    </tr>\n",
       "    <tr>\n",
       "      <th>1787558</th>\n",
       "      <td>2016-02-29</td>\n",
       "      <td>2015-09-10</td>\n",
       "      <td>2015-09-15</td>\n",
       "      <td>0</td>\n",
       "    </tr>\n",
       "    <tr>\n",
       "      <th>1787559</th>\n",
       "      <td>2016-02-29</td>\n",
       "      <td>2015-04-24</td>\n",
       "      <td>2015-04-24</td>\n",
       "      <td>0</td>\n",
       "    </tr>\n",
       "    <tr>\n",
       "      <th>1787560</th>\n",
       "      <td>2016-02-29</td>\n",
       "      <td>2015-04-24</td>\n",
       "      <td>2015-04-24</td>\n",
       "      <td>0</td>\n",
       "    </tr>\n",
       "    <tr>\n",
       "      <th>1787561</th>\n",
       "      <td>2016-02-29</td>\n",
       "      <td>2015-04-24</td>\n",
       "      <td>2015-04-24</td>\n",
       "      <td>0</td>\n",
       "    </tr>\n",
       "    <tr>\n",
       "      <th>1787562</th>\n",
       "      <td>2016-02-29</td>\n",
       "      <td>2099-12-31</td>\n",
       "      <td>NaT</td>\n",
       "      <td>0</td>\n",
       "    </tr>\n",
       "    <tr>\n",
       "      <th>1787563</th>\n",
       "      <td>2016-02-29</td>\n",
       "      <td>2099-12-31</td>\n",
       "      <td>NaT</td>\n",
       "      <td>0</td>\n",
       "    </tr>\n",
       "    <tr>\n",
       "      <th>1787564</th>\n",
       "      <td>2016-02-29</td>\n",
       "      <td>NaT</td>\n",
       "      <td>NaT</td>\n",
       "      <td>0</td>\n",
       "    </tr>\n",
       "    <tr>\n",
       "      <th>1787565</th>\n",
       "      <td>2016-02-29</td>\n",
       "      <td>2011-02-07</td>\n",
       "      <td>2011-02-09</td>\n",
       "      <td>0</td>\n",
       "    </tr>\n",
       "    <tr>\n",
       "      <th>1787566</th>\n",
       "      <td>2016-02-29</td>\n",
       "      <td>2011-02-07</td>\n",
       "      <td>2011-02-09</td>\n",
       "      <td>0</td>\n",
       "    </tr>\n",
       "    <tr>\n",
       "      <th>1787567</th>\n",
       "      <td>2016-02-29</td>\n",
       "      <td>NaT</td>\n",
       "      <td>NaT</td>\n",
       "      <td>0</td>\n",
       "    </tr>\n",
       "    <tr>\n",
       "      <th>1787568</th>\n",
       "      <td>2016-02-29</td>\n",
       "      <td>2017-03-31</td>\n",
       "      <td>NaT</td>\n",
       "      <td>0</td>\n",
       "    </tr>\n",
       "    <tr>\n",
       "      <th>1787569</th>\n",
       "      <td>2016-02-29</td>\n",
       "      <td>2017-03-31</td>\n",
       "      <td>NaT</td>\n",
       "      <td>0</td>\n",
       "    </tr>\n",
       "    <tr>\n",
       "      <th>1787570</th>\n",
       "      <td>2016-02-29</td>\n",
       "      <td>2017-03-31</td>\n",
       "      <td>NaT</td>\n",
       "      <td>0</td>\n",
       "    </tr>\n",
       "  </tbody>\n",
       "</table>\n",
       "<p>1787571 rows × 4 columns</p>\n",
       "</div>"
      ],
      "text/plain": [
       "        SK_DATE_DECISION DTIME_CREDIT_ENDDATE DTIME_CREDIT_ENDDATE_FACT  \\\n",
       "0             2015-09-01           2012-01-27                2012-01-25   \n",
       "1             2015-09-01           2014-11-30                2014-08-04   \n",
       "2             2015-09-01           2014-11-30                2014-08-04   \n",
       "3             2015-09-01           2014-02-21                2014-02-21   \n",
       "4             2015-09-01           2014-02-21                2014-02-21   \n",
       "5             2015-09-01           2015-03-17                       NaT   \n",
       "6             2015-09-01           2015-03-17                2015-04-07   \n",
       "7             2015-09-01                  NaT                2015-06-15   \n",
       "8             2015-09-01                  NaT                       NaT   \n",
       "9             2015-09-01           2017-06-16                       NaT   \n",
       "10            2015-09-01                  NaT                2015-07-20   \n",
       "11            2015-09-01                  NaT                       NaT   \n",
       "12            2015-09-01           2007-05-14                2008-05-24   \n",
       "13            2015-09-01           2008-06-04                       NaT   \n",
       "14            2015-09-01           2007-05-14                2008-05-22   \n",
       "15            2015-09-01           2007-05-14                2008-05-22   \n",
       "16            2015-09-01           2012-08-07                2011-08-08   \n",
       "17            2015-09-01           2013-04-30                       NaT   \n",
       "18            2015-09-01           2099-12-31                       NaT   \n",
       "19            2015-09-01           2099-12-31                2014-06-18   \n",
       "20            2015-09-01                  NaT                2014-06-18   \n",
       "21            2015-09-01           2014-12-24                2013-11-06   \n",
       "22            2015-09-01           2007-10-03                2007-10-04   \n",
       "23            2015-09-01           2007-10-03                2007-10-03   \n",
       "24            2015-09-01           2008-07-28                2008-07-28   \n",
       "25            2015-09-01           2008-07-28                2008-07-28   \n",
       "26            2015-09-01           2015-05-13                2013-01-09   \n",
       "27            2015-09-01           2013-12-31                2013-12-03   \n",
       "28            2015-09-01           2015-09-12                       NaT   \n",
       "29            2015-09-01           2015-09-12                       NaT   \n",
       "...                  ...                  ...                       ...   \n",
       "1787541       2016-02-29           2015-08-27                2015-08-27   \n",
       "1787542       2016-02-29           2014-12-29                2014-07-28   \n",
       "1787543       2016-02-29           2014-12-29                2014-07-28   \n",
       "1787544       2016-02-29           2015-11-26                2015-08-26   \n",
       "1787545       2016-02-29           2015-11-26                2015-08-26   \n",
       "1787546       2016-02-29           2015-11-26                2015-08-26   \n",
       "1787547       2016-02-29           2015-11-26                2015-08-26   \n",
       "1787548       2016-02-29           2011-09-23                2011-09-30   \n",
       "1787549       2016-02-29           2011-09-23                2011-09-23   \n",
       "1787550       2016-02-29           2011-09-23                2011-09-23   \n",
       "1787551       2016-02-29           2012-02-28                2012-02-29   \n",
       "1787552       2016-02-29           2012-02-28                2012-02-28   \n",
       "1787553       2016-02-29           2012-02-28                2012-02-28   \n",
       "1787554       2016-02-29           2014-01-17                2014-01-18   \n",
       "1787555       2016-02-29           2014-01-17                2014-01-18   \n",
       "1787556       2016-02-29           2015-09-10                2015-09-15   \n",
       "1787557       2016-02-29           2015-09-10                2015-09-15   \n",
       "1787558       2016-02-29           2015-09-10                2015-09-15   \n",
       "1787559       2016-02-29           2015-04-24                2015-04-24   \n",
       "1787560       2016-02-29           2015-04-24                2015-04-24   \n",
       "1787561       2016-02-29           2015-04-24                2015-04-24   \n",
       "1787562       2016-02-29           2099-12-31                       NaT   \n",
       "1787563       2016-02-29           2099-12-31                       NaT   \n",
       "1787564       2016-02-29                  NaT                       NaT   \n",
       "1787565       2016-02-29           2011-02-07                2011-02-09   \n",
       "1787566       2016-02-29           2011-02-07                2011-02-09   \n",
       "1787567       2016-02-29                  NaT                       NaT   \n",
       "1787568       2016-02-29           2017-03-31                       NaT   \n",
       "1787569       2016-02-29           2017-03-31                       NaT   \n",
       "1787570       2016-02-29           2017-03-31                       NaT   \n",
       "\n",
       "         CREDIT_DAY_OVERDUE  \n",
       "0                         0  \n",
       "1                         0  \n",
       "2                         0  \n",
       "3                         0  \n",
       "4                         0  \n",
       "5                         0  \n",
       "6                         0  \n",
       "7                         0  \n",
       "8                         0  \n",
       "9                         0  \n",
       "10                        0  \n",
       "11                        0  \n",
       "12                        0  \n",
       "13                      120  \n",
       "14                        0  \n",
       "15                        0  \n",
       "16                        0  \n",
       "17                        0  \n",
       "18                        0  \n",
       "19                        0  \n",
       "20                        0  \n",
       "21                        0  \n",
       "22                        0  \n",
       "23                        0  \n",
       "24                        0  \n",
       "25                        0  \n",
       "26                        0  \n",
       "27                        0  \n",
       "28                        0  \n",
       "29                        0  \n",
       "...                     ...  \n",
       "1787541                   0  \n",
       "1787542                   0  \n",
       "1787543                   0  \n",
       "1787544                   0  \n",
       "1787545                   0  \n",
       "1787546                   0  \n",
       "1787547                   0  \n",
       "1787548                   0  \n",
       "1787549                   0  \n",
       "1787550                   0  \n",
       "1787551                   0  \n",
       "1787552                   0  \n",
       "1787553                   0  \n",
       "1787554                   0  \n",
       "1787555                   0  \n",
       "1787556                   0  \n",
       "1787557                   0  \n",
       "1787558                   0  \n",
       "1787559                   0  \n",
       "1787560                   0  \n",
       "1787561                   0  \n",
       "1787562                   0  \n",
       "1787563                   0  \n",
       "1787564                   0  \n",
       "1787565                   0  \n",
       "1787566                   0  \n",
       "1787567                   0  \n",
       "1787568                   0  \n",
       "1787569                   0  \n",
       "1787570                   0  \n",
       "\n",
       "[1787571 rows x 4 columns]"
      ]
     },
     "execution_count": 79,
     "metadata": {},
     "output_type": "execute_result"
    }
   ],
   "source": [
    "train[['SK_DATE_DECISION', 'DTIME_CREDIT_ENDDATE', 'DTIME_CREDIT_ENDDATE_FACT', 'CREDIT_DAY_OVERDUE']]"
   ]
  },
  {
   "cell_type": "markdown",
   "metadata": {},
   "source": [
    "Интересный момент: CREDIT_DAY_OVERDUE не содержит пропусков. Это значит либо что пропуски тут заполнялись какими-то значениями, либо дату фактической выплаты не считали важным в случае своевременного закрытия кредита."
   ]
  },
  {
   "cell_type": "code",
   "execution_count": 83,
   "metadata": {
    "collapsed": false
   },
   "outputs": [
    {
     "data": {
      "text/html": [
       "<div>\n",
       "<table border=\"1\" class=\"dataframe\">\n",
       "  <thead>\n",
       "    <tr style=\"text-align: right;\">\n",
       "      <th></th>\n",
       "      <th>NUM_SOURCE</th>\n",
       "      <th>SK_DATE_DECISION</th>\n",
       "      <th>DTIME_CREDIT_ENDDATE</th>\n",
       "      <th>DTIME_CREDIT_ENDDATE_FACT</th>\n",
       "      <th>CREDIT_DAY_OVERDUE</th>\n",
       "    </tr>\n",
       "  </thead>\n",
       "  <tbody>\n",
       "    <tr>\n",
       "      <th>13</th>\n",
       "      <td>2</td>\n",
       "      <td>2015-09-01</td>\n",
       "      <td>2008-06-04</td>\n",
       "      <td>NaT</td>\n",
       "      <td>120</td>\n",
       "    </tr>\n",
       "    <tr>\n",
       "      <th>75</th>\n",
       "      <td>1</td>\n",
       "      <td>2015-09-01</td>\n",
       "      <td>2008-08-14</td>\n",
       "      <td>2009-08-17</td>\n",
       "      <td>2601</td>\n",
       "    </tr>\n",
       "    <tr>\n",
       "      <th>179</th>\n",
       "      <td>4</td>\n",
       "      <td>2015-09-01</td>\n",
       "      <td>2015-07-07</td>\n",
       "      <td>NaT</td>\n",
       "      <td>56</td>\n",
       "    </tr>\n",
       "    <tr>\n",
       "      <th>609</th>\n",
       "      <td>1</td>\n",
       "      <td>2015-09-01</td>\n",
       "      <td>2018-07-23</td>\n",
       "      <td>NaT</td>\n",
       "      <td>6</td>\n",
       "    </tr>\n",
       "    <tr>\n",
       "      <th>1064</th>\n",
       "      <td>1</td>\n",
       "      <td>2015-09-01</td>\n",
       "      <td>2015-07-20</td>\n",
       "      <td>NaT</td>\n",
       "      <td>39</td>\n",
       "    </tr>\n",
       "    <tr>\n",
       "      <th>1202</th>\n",
       "      <td>4</td>\n",
       "      <td>2015-09-01</td>\n",
       "      <td>2015-09-23</td>\n",
       "      <td>NaT</td>\n",
       "      <td>34</td>\n",
       "    </tr>\n",
       "    <tr>\n",
       "      <th>1578</th>\n",
       "      <td>4</td>\n",
       "      <td>2015-09-01</td>\n",
       "      <td>2018-01-01</td>\n",
       "      <td>NaT</td>\n",
       "      <td>33</td>\n",
       "    </tr>\n",
       "    <tr>\n",
       "      <th>1643</th>\n",
       "      <td>3</td>\n",
       "      <td>2015-09-01</td>\n",
       "      <td>2009-08-18</td>\n",
       "      <td>NaT</td>\n",
       "      <td>2539</td>\n",
       "    </tr>\n",
       "    <tr>\n",
       "      <th>2017</th>\n",
       "      <td>1</td>\n",
       "      <td>2015-09-01</td>\n",
       "      <td>2017-08-28</td>\n",
       "      <td>NaT</td>\n",
       "      <td>33</td>\n",
       "    </tr>\n",
       "    <tr>\n",
       "      <th>2020</th>\n",
       "      <td>4</td>\n",
       "      <td>2015-09-01</td>\n",
       "      <td>2017-08-28</td>\n",
       "      <td>NaT</td>\n",
       "      <td>33</td>\n",
       "    </tr>\n",
       "    <tr>\n",
       "      <th>2210</th>\n",
       "      <td>1</td>\n",
       "      <td>2015-09-01</td>\n",
       "      <td>2009-05-15</td>\n",
       "      <td>NaT</td>\n",
       "      <td>2351</td>\n",
       "    </tr>\n",
       "    <tr>\n",
       "      <th>2786</th>\n",
       "      <td>3</td>\n",
       "      <td>2015-09-01</td>\n",
       "      <td>2017-05-12</td>\n",
       "      <td>NaT</td>\n",
       "      <td>45</td>\n",
       "    </tr>\n",
       "    <tr>\n",
       "      <th>3783</th>\n",
       "      <td>3</td>\n",
       "      <td>2015-09-01</td>\n",
       "      <td>2099-12-31</td>\n",
       "      <td>NaT</td>\n",
       "      <td>11</td>\n",
       "    </tr>\n",
       "    <tr>\n",
       "      <th>3865</th>\n",
       "      <td>3</td>\n",
       "      <td>2015-09-01</td>\n",
       "      <td>2009-12-23</td>\n",
       "      <td>NaT</td>\n",
       "      <td>1309</td>\n",
       "    </tr>\n",
       "    <tr>\n",
       "      <th>4294</th>\n",
       "      <td>2</td>\n",
       "      <td>2015-09-01</td>\n",
       "      <td>2009-04-17</td>\n",
       "      <td>NaT</td>\n",
       "      <td>60</td>\n",
       "    </tr>\n",
       "    <tr>\n",
       "      <th>5378</th>\n",
       "      <td>1</td>\n",
       "      <td>2015-09-01</td>\n",
       "      <td>2019-02-26</td>\n",
       "      <td>NaT</td>\n",
       "      <td>27</td>\n",
       "    </tr>\n",
       "    <tr>\n",
       "      <th>5379</th>\n",
       "      <td>2</td>\n",
       "      <td>2015-09-01</td>\n",
       "      <td>2019-02-26</td>\n",
       "      <td>NaT</td>\n",
       "      <td>30</td>\n",
       "    </tr>\n",
       "    <tr>\n",
       "      <th>5383</th>\n",
       "      <td>4</td>\n",
       "      <td>2015-09-01</td>\n",
       "      <td>2019-02-26</td>\n",
       "      <td>NaT</td>\n",
       "      <td>27</td>\n",
       "    </tr>\n",
       "    <tr>\n",
       "      <th>5534</th>\n",
       "      <td>2</td>\n",
       "      <td>2015-09-01</td>\n",
       "      <td>2011-04-08</td>\n",
       "      <td>NaT</td>\n",
       "      <td>30</td>\n",
       "    </tr>\n",
       "    <tr>\n",
       "      <th>5733</th>\n",
       "      <td>2</td>\n",
       "      <td>2015-09-01</td>\n",
       "      <td>2015-10-07</td>\n",
       "      <td>NaT</td>\n",
       "      <td>30</td>\n",
       "    </tr>\n",
       "    <tr>\n",
       "      <th>5820</th>\n",
       "      <td>4</td>\n",
       "      <td>2015-09-01</td>\n",
       "      <td>2044-03-07</td>\n",
       "      <td>NaT</td>\n",
       "      <td>12</td>\n",
       "    </tr>\n",
       "    <tr>\n",
       "      <th>5901</th>\n",
       "      <td>3</td>\n",
       "      <td>2015-09-01</td>\n",
       "      <td>NaT</td>\n",
       "      <td>NaT</td>\n",
       "      <td>11</td>\n",
       "    </tr>\n",
       "    <tr>\n",
       "      <th>6192</th>\n",
       "      <td>1</td>\n",
       "      <td>2015-09-01</td>\n",
       "      <td>2007-12-24</td>\n",
       "      <td>2008-12-30</td>\n",
       "      <td>2836</td>\n",
       "    </tr>\n",
       "    <tr>\n",
       "      <th>6255</th>\n",
       "      <td>4</td>\n",
       "      <td>2015-09-01</td>\n",
       "      <td>2015-09-08</td>\n",
       "      <td>NaT</td>\n",
       "      <td>34</td>\n",
       "    </tr>\n",
       "    <tr>\n",
       "      <th>6316</th>\n",
       "      <td>2</td>\n",
       "      <td>2015-09-01</td>\n",
       "      <td>2011-09-12</td>\n",
       "      <td>NaT</td>\n",
       "      <td>30</td>\n",
       "    </tr>\n",
       "    <tr>\n",
       "      <th>6367</th>\n",
       "      <td>4</td>\n",
       "      <td>2015-09-01</td>\n",
       "      <td>2011-12-14</td>\n",
       "      <td>2011-12-15</td>\n",
       "      <td>1</td>\n",
       "    </tr>\n",
       "    <tr>\n",
       "      <th>7164</th>\n",
       "      <td>3</td>\n",
       "      <td>2015-09-01</td>\n",
       "      <td>2016-10-24</td>\n",
       "      <td>NaT</td>\n",
       "      <td>8</td>\n",
       "    </tr>\n",
       "    <tr>\n",
       "      <th>7907</th>\n",
       "      <td>3</td>\n",
       "      <td>2015-09-01</td>\n",
       "      <td>2017-08-28</td>\n",
       "      <td>NaT</td>\n",
       "      <td>34</td>\n",
       "    </tr>\n",
       "    <tr>\n",
       "      <th>7986</th>\n",
       "      <td>1</td>\n",
       "      <td>2015-09-01</td>\n",
       "      <td>2008-09-15</td>\n",
       "      <td>NaT</td>\n",
       "      <td>2564</td>\n",
       "    </tr>\n",
       "    <tr>\n",
       "      <th>7987</th>\n",
       "      <td>3</td>\n",
       "      <td>2015-09-01</td>\n",
       "      <td>2008-09-15</td>\n",
       "      <td>NaT</td>\n",
       "      <td>2477</td>\n",
       "    </tr>\n",
       "    <tr>\n",
       "      <th>...</th>\n",
       "      <td>...</td>\n",
       "      <td>...</td>\n",
       "      <td>...</td>\n",
       "      <td>...</td>\n",
       "      <td>...</td>\n",
       "    </tr>\n",
       "    <tr>\n",
       "      <th>1779100</th>\n",
       "      <td>4</td>\n",
       "      <td>2016-02-29</td>\n",
       "      <td>2016-08-11</td>\n",
       "      <td>NaT</td>\n",
       "      <td>42</td>\n",
       "    </tr>\n",
       "    <tr>\n",
       "      <th>1779737</th>\n",
       "      <td>1</td>\n",
       "      <td>2016-02-29</td>\n",
       "      <td>2099-12-31</td>\n",
       "      <td>NaT</td>\n",
       "      <td>25</td>\n",
       "    </tr>\n",
       "    <tr>\n",
       "      <th>1779739</th>\n",
       "      <td>4</td>\n",
       "      <td>2016-02-29</td>\n",
       "      <td>NaT</td>\n",
       "      <td>NaT</td>\n",
       "      <td>24</td>\n",
       "    </tr>\n",
       "    <tr>\n",
       "      <th>1779775</th>\n",
       "      <td>1</td>\n",
       "      <td>2016-02-29</td>\n",
       "      <td>2016-05-31</td>\n",
       "      <td>NaT</td>\n",
       "      <td>7</td>\n",
       "    </tr>\n",
       "    <tr>\n",
       "      <th>1779881</th>\n",
       "      <td>1</td>\n",
       "      <td>2016-02-29</td>\n",
       "      <td>2099-12-31</td>\n",
       "      <td>NaT</td>\n",
       "      <td>27</td>\n",
       "    </tr>\n",
       "    <tr>\n",
       "      <th>1779883</th>\n",
       "      <td>4</td>\n",
       "      <td>2016-02-29</td>\n",
       "      <td>NaT</td>\n",
       "      <td>NaT</td>\n",
       "      <td>26</td>\n",
       "    </tr>\n",
       "    <tr>\n",
       "      <th>1779889</th>\n",
       "      <td>2</td>\n",
       "      <td>2016-02-29</td>\n",
       "      <td>2019-07-10</td>\n",
       "      <td>NaT</td>\n",
       "      <td>30</td>\n",
       "    </tr>\n",
       "    <tr>\n",
       "      <th>1780079</th>\n",
       "      <td>1</td>\n",
       "      <td>2016-02-29</td>\n",
       "      <td>2022-03-02</td>\n",
       "      <td>NaT</td>\n",
       "      <td>27</td>\n",
       "    </tr>\n",
       "    <tr>\n",
       "      <th>1780688</th>\n",
       "      <td>1</td>\n",
       "      <td>2016-02-29</td>\n",
       "      <td>2012-02-12</td>\n",
       "      <td>NaT</td>\n",
       "      <td>63</td>\n",
       "    </tr>\n",
       "    <tr>\n",
       "      <th>1780689</th>\n",
       "      <td>3</td>\n",
       "      <td>2016-02-29</td>\n",
       "      <td>NaT</td>\n",
       "      <td>NaT</td>\n",
       "      <td>79</td>\n",
       "    </tr>\n",
       "    <tr>\n",
       "      <th>1780690</th>\n",
       "      <td>4</td>\n",
       "      <td>2016-02-29</td>\n",
       "      <td>NaT</td>\n",
       "      <td>NaT</td>\n",
       "      <td>62</td>\n",
       "    </tr>\n",
       "    <tr>\n",
       "      <th>1780704</th>\n",
       "      <td>3</td>\n",
       "      <td>2016-02-29</td>\n",
       "      <td>2020-01-09</td>\n",
       "      <td>NaT</td>\n",
       "      <td>10</td>\n",
       "    </tr>\n",
       "    <tr>\n",
       "      <th>1781618</th>\n",
       "      <td>1</td>\n",
       "      <td>2016-02-29</td>\n",
       "      <td>2006-09-21</td>\n",
       "      <td>NaT</td>\n",
       "      <td>3559</td>\n",
       "    </tr>\n",
       "    <tr>\n",
       "      <th>1781619</th>\n",
       "      <td>2</td>\n",
       "      <td>2016-02-29</td>\n",
       "      <td>2007-10-18</td>\n",
       "      <td>NaT</td>\n",
       "      <td>150</td>\n",
       "    </tr>\n",
       "    <tr>\n",
       "      <th>1781785</th>\n",
       "      <td>1</td>\n",
       "      <td>2016-02-29</td>\n",
       "      <td>2013-06-26</td>\n",
       "      <td>NaT</td>\n",
       "      <td>1608</td>\n",
       "    </tr>\n",
       "    <tr>\n",
       "      <th>1782153</th>\n",
       "      <td>1</td>\n",
       "      <td>2016-02-29</td>\n",
       "      <td>2005-04-07</td>\n",
       "      <td>NaT</td>\n",
       "      <td>3803</td>\n",
       "    </tr>\n",
       "    <tr>\n",
       "      <th>1782154</th>\n",
       "      <td>3</td>\n",
       "      <td>2016-02-29</td>\n",
       "      <td>2005-04-07</td>\n",
       "      <td>NaT</td>\n",
       "      <td>1195</td>\n",
       "    </tr>\n",
       "    <tr>\n",
       "      <th>1782844</th>\n",
       "      <td>1</td>\n",
       "      <td>2016-02-29</td>\n",
       "      <td>2006-08-15</td>\n",
       "      <td>NaT</td>\n",
       "      <td>3480</td>\n",
       "    </tr>\n",
       "    <tr>\n",
       "      <th>1783015</th>\n",
       "      <td>1</td>\n",
       "      <td>2016-02-29</td>\n",
       "      <td>2016-04-18</td>\n",
       "      <td>NaT</td>\n",
       "      <td>42</td>\n",
       "    </tr>\n",
       "    <tr>\n",
       "      <th>1783016</th>\n",
       "      <td>4</td>\n",
       "      <td>2016-02-29</td>\n",
       "      <td>2016-04-18</td>\n",
       "      <td>NaT</td>\n",
       "      <td>11</td>\n",
       "    </tr>\n",
       "    <tr>\n",
       "      <th>1784270</th>\n",
       "      <td>1</td>\n",
       "      <td>2016-02-29</td>\n",
       "      <td>2007-09-17</td>\n",
       "      <td>2008-09-23</td>\n",
       "      <td>3207</td>\n",
       "    </tr>\n",
       "    <tr>\n",
       "      <th>1784377</th>\n",
       "      <td>4</td>\n",
       "      <td>2016-02-29</td>\n",
       "      <td>NaT</td>\n",
       "      <td>NaT</td>\n",
       "      <td>17</td>\n",
       "    </tr>\n",
       "    <tr>\n",
       "      <th>1784862</th>\n",
       "      <td>4</td>\n",
       "      <td>2016-02-29</td>\n",
       "      <td>2016-02-20</td>\n",
       "      <td>NaT</td>\n",
       "      <td>9</td>\n",
       "    </tr>\n",
       "    <tr>\n",
       "      <th>1785286</th>\n",
       "      <td>3</td>\n",
       "      <td>2016-02-29</td>\n",
       "      <td>2010-05-17</td>\n",
       "      <td>NaT</td>\n",
       "      <td>2109</td>\n",
       "    </tr>\n",
       "    <tr>\n",
       "      <th>1785496</th>\n",
       "      <td>1</td>\n",
       "      <td>2016-02-29</td>\n",
       "      <td>2008-05-15</td>\n",
       "      <td>NaT</td>\n",
       "      <td>2859</td>\n",
       "    </tr>\n",
       "    <tr>\n",
       "      <th>1785802</th>\n",
       "      <td>3</td>\n",
       "      <td>2016-02-29</td>\n",
       "      <td>2009-12-07</td>\n",
       "      <td>NaT</td>\n",
       "      <td>2273</td>\n",
       "    </tr>\n",
       "    <tr>\n",
       "      <th>1785803</th>\n",
       "      <td>4</td>\n",
       "      <td>2016-02-29</td>\n",
       "      <td>2009-12-07</td>\n",
       "      <td>2014-01-07</td>\n",
       "      <td>1492</td>\n",
       "    </tr>\n",
       "    <tr>\n",
       "      <th>1786663</th>\n",
       "      <td>3</td>\n",
       "      <td>2016-02-29</td>\n",
       "      <td>2018-12-20</td>\n",
       "      <td>NaT</td>\n",
       "      <td>9</td>\n",
       "    </tr>\n",
       "    <tr>\n",
       "      <th>1786664</th>\n",
       "      <td>4</td>\n",
       "      <td>2016-02-29</td>\n",
       "      <td>2018-12-20</td>\n",
       "      <td>NaT</td>\n",
       "      <td>9</td>\n",
       "    </tr>\n",
       "    <tr>\n",
       "      <th>1787261</th>\n",
       "      <td>4</td>\n",
       "      <td>2016-02-29</td>\n",
       "      <td>2017-11-18</td>\n",
       "      <td>NaT</td>\n",
       "      <td>30</td>\n",
       "    </tr>\n",
       "  </tbody>\n",
       "</table>\n",
       "<p>5038 rows × 5 columns</p>\n",
       "</div>"
      ],
      "text/plain": [
       "         NUM_SOURCE SK_DATE_DECISION DTIME_CREDIT_ENDDATE  \\\n",
       "13                2       2015-09-01           2008-06-04   \n",
       "75                1       2015-09-01           2008-08-14   \n",
       "179               4       2015-09-01           2015-07-07   \n",
       "609               1       2015-09-01           2018-07-23   \n",
       "1064              1       2015-09-01           2015-07-20   \n",
       "1202              4       2015-09-01           2015-09-23   \n",
       "1578              4       2015-09-01           2018-01-01   \n",
       "1643              3       2015-09-01           2009-08-18   \n",
       "2017              1       2015-09-01           2017-08-28   \n",
       "2020              4       2015-09-01           2017-08-28   \n",
       "2210              1       2015-09-01           2009-05-15   \n",
       "2786              3       2015-09-01           2017-05-12   \n",
       "3783              3       2015-09-01           2099-12-31   \n",
       "3865              3       2015-09-01           2009-12-23   \n",
       "4294              2       2015-09-01           2009-04-17   \n",
       "5378              1       2015-09-01           2019-02-26   \n",
       "5379              2       2015-09-01           2019-02-26   \n",
       "5383              4       2015-09-01           2019-02-26   \n",
       "5534              2       2015-09-01           2011-04-08   \n",
       "5733              2       2015-09-01           2015-10-07   \n",
       "5820              4       2015-09-01           2044-03-07   \n",
       "5901              3       2015-09-01                  NaT   \n",
       "6192              1       2015-09-01           2007-12-24   \n",
       "6255              4       2015-09-01           2015-09-08   \n",
       "6316              2       2015-09-01           2011-09-12   \n",
       "6367              4       2015-09-01           2011-12-14   \n",
       "7164              3       2015-09-01           2016-10-24   \n",
       "7907              3       2015-09-01           2017-08-28   \n",
       "7986              1       2015-09-01           2008-09-15   \n",
       "7987              3       2015-09-01           2008-09-15   \n",
       "...             ...              ...                  ...   \n",
       "1779100           4       2016-02-29           2016-08-11   \n",
       "1779737           1       2016-02-29           2099-12-31   \n",
       "1779739           4       2016-02-29                  NaT   \n",
       "1779775           1       2016-02-29           2016-05-31   \n",
       "1779881           1       2016-02-29           2099-12-31   \n",
       "1779883           4       2016-02-29                  NaT   \n",
       "1779889           2       2016-02-29           2019-07-10   \n",
       "1780079           1       2016-02-29           2022-03-02   \n",
       "1780688           1       2016-02-29           2012-02-12   \n",
       "1780689           3       2016-02-29                  NaT   \n",
       "1780690           4       2016-02-29                  NaT   \n",
       "1780704           3       2016-02-29           2020-01-09   \n",
       "1781618           1       2016-02-29           2006-09-21   \n",
       "1781619           2       2016-02-29           2007-10-18   \n",
       "1781785           1       2016-02-29           2013-06-26   \n",
       "1782153           1       2016-02-29           2005-04-07   \n",
       "1782154           3       2016-02-29           2005-04-07   \n",
       "1782844           1       2016-02-29           2006-08-15   \n",
       "1783015           1       2016-02-29           2016-04-18   \n",
       "1783016           4       2016-02-29           2016-04-18   \n",
       "1784270           1       2016-02-29           2007-09-17   \n",
       "1784377           4       2016-02-29                  NaT   \n",
       "1784862           4       2016-02-29           2016-02-20   \n",
       "1785286           3       2016-02-29           2010-05-17   \n",
       "1785496           1       2016-02-29           2008-05-15   \n",
       "1785802           3       2016-02-29           2009-12-07   \n",
       "1785803           4       2016-02-29           2009-12-07   \n",
       "1786663           3       2016-02-29           2018-12-20   \n",
       "1786664           4       2016-02-29           2018-12-20   \n",
       "1787261           4       2016-02-29           2017-11-18   \n",
       "\n",
       "        DTIME_CREDIT_ENDDATE_FACT  CREDIT_DAY_OVERDUE  \n",
       "13                            NaT                 120  \n",
       "75                     2009-08-17                2601  \n",
       "179                           NaT                  56  \n",
       "609                           NaT                   6  \n",
       "1064                          NaT                  39  \n",
       "1202                          NaT                  34  \n",
       "1578                          NaT                  33  \n",
       "1643                          NaT                2539  \n",
       "2017                          NaT                  33  \n",
       "2020                          NaT                  33  \n",
       "2210                          NaT                2351  \n",
       "2786                          NaT                  45  \n",
       "3783                          NaT                  11  \n",
       "3865                          NaT                1309  \n",
       "4294                          NaT                  60  \n",
       "5378                          NaT                  27  \n",
       "5379                          NaT                  30  \n",
       "5383                          NaT                  27  \n",
       "5534                          NaT                  30  \n",
       "5733                          NaT                  30  \n",
       "5820                          NaT                  12  \n",
       "5901                          NaT                  11  \n",
       "6192                   2008-12-30                2836  \n",
       "6255                          NaT                  34  \n",
       "6316                          NaT                  30  \n",
       "6367                   2011-12-15                   1  \n",
       "7164                          NaT                   8  \n",
       "7907                          NaT                  34  \n",
       "7986                          NaT                2564  \n",
       "7987                          NaT                2477  \n",
       "...                           ...                 ...  \n",
       "1779100                       NaT                  42  \n",
       "1779737                       NaT                  25  \n",
       "1779739                       NaT                  24  \n",
       "1779775                       NaT                   7  \n",
       "1779881                       NaT                  27  \n",
       "1779883                       NaT                  26  \n",
       "1779889                       NaT                  30  \n",
       "1780079                       NaT                  27  \n",
       "1780688                       NaT                  63  \n",
       "1780689                       NaT                  79  \n",
       "1780690                       NaT                  62  \n",
       "1780704                       NaT                  10  \n",
       "1781618                       NaT                3559  \n",
       "1781619                       NaT                 150  \n",
       "1781785                       NaT                1608  \n",
       "1782153                       NaT                3803  \n",
       "1782154                       NaT                1195  \n",
       "1782844                       NaT                3480  \n",
       "1783015                       NaT                  42  \n",
       "1783016                       NaT                  11  \n",
       "1784270                2008-09-23                3207  \n",
       "1784377                       NaT                  17  \n",
       "1784862                       NaT                   9  \n",
       "1785286                       NaT                2109  \n",
       "1785496                       NaT                2859  \n",
       "1785802                       NaT                2273  \n",
       "1785803                2014-01-07                1492  \n",
       "1786663                       NaT                   9  \n",
       "1786664                       NaT                   9  \n",
       "1787261                       NaT                  30  \n",
       "\n",
       "[5038 rows x 5 columns]"
      ]
     },
     "execution_count": 83,
     "metadata": {},
     "output_type": "execute_result"
    }
   ],
   "source": [
    "train[train['CREDIT_DAY_OVERDUE'] > 0][['NUM_SOURCE', 'SK_DATE_DECISION', 'DTIME_CREDIT_ENDDATE', 'DTIME_CREDIT_ENDDATE_FACT', 'CREDIT_DAY_OVERDUE']]"
   ]
  },
  {
   "cell_type": "markdown",
   "metadata": {},
   "source": [
    "Проверим согласованность дат:"
   ]
  },
  {
   "cell_type": "code",
   "execution_count": 92,
   "metadata": {
    "collapsed": false
   },
   "outputs": [
    {
     "data": {
      "text/plain": [
       "Timestamp('2017-11-18 00:00:00')"
      ]
     },
     "execution_count": 92,
     "metadata": {},
     "output_type": "execute_result"
    }
   ],
   "source": [
    "train.iloc[1787261]['DTIME_CREDIT_ENDDATE'] "
   ]
  },
  {
   "cell_type": "code",
   "execution_count": 91,
   "metadata": {
    "collapsed": false
   },
   "outputs": [
    {
     "data": {
      "text/plain": [
       "Timestamp('2017-11-19 00:00:00')"
      ]
     },
     "execution_count": 91,
     "metadata": {},
     "output_type": "execute_result"
    }
   ],
   "source": [
    "train.iloc[1787261]['DTIME_CREDIT_ENDDATE'] + timedelta(days=1)  "
   ]
  },
  {
   "cell_type": "code",
   "execution_count": null,
   "metadata": {
    "collapsed": true
   },
   "outputs": [],
   "source": [
    "for x in train.index:\n",
    "    if \n",
    "    "
   ]
  },
  {
   "cell_type": "code",
   "execution_count": null,
   "metadata": {
    "collapsed": true
   },
   "outputs": [],
   "source": []
  },
  {
   "cell_type": "code",
   "execution_count": 77,
   "metadata": {
    "collapsed": false
   },
   "outputs": [
    {
     "data": {
      "text/plain": [
       "<matplotlib.axes._subplots.AxesSubplot at 0x7f68d31ff790>"
      ]
     },
     "execution_count": 77,
     "metadata": {},
     "output_type": "execute_result"
    },
    {
     "data": {
      "image/png": "[encoded data removed]",
      "text/plain": [
       "<matplotlib.figure.Figure at 0x7f693d495ed0>"
      ]
     },
     "metadata": {},
     "output_type": "display_data"
    }
   ],
   "source": [
    "sns.distplot(train['AMT_CREDIT_MAX_OVERDUE'].dropna())"
   ]
  },
  {
   "cell_type": "code",
   "execution_count": 76,
   "metadata": {
    "collapsed": false
   },
   "outputs": [
    {
     "data": {
      "text/plain": [
       "<matplotlib.axes._subplots.AxesSubplot at 0x7f68d31ff850>"
      ]
     },
     "execution_count": 76,
     "metadata": {},
     "output_type": "execute_result"
    },
    {
     "data": {
      "image/png": "[encoded data removed]",
      "text/plain": [
       "<matplotlib.figure.Figure at 0x7f68d5498d50>"
      ]
     },
     "metadata": {},
     "output_type": "display_data"
    }
   ],
   "source": [
    "sns.distplot(train['CREDIT_DAY_OVERDUE'].dropna())"
   ]
  },
  {
   "cell_type": "markdown",
   "metadata": {},
   "source": [
    "Взглянем поближе:"
   ]
  },
  {
   "cell_type": "code",
   "execution_count": 78,
   "metadata": {
    "collapsed": false
   },
   "outputs": [
    {
     "data": {
      "text/plain": [
       "<matplotlib.axes._subplots.AxesSubplot at 0x7f68d3201c90>"
      ]
     },
     "execution_count": 78,
     "metadata": {},
     "output_type": "execute_result"
    },
    {
     "data": {
      "image/png": "[encoded data removed]",
      "text/plain": [
       "<matplotlib.figure.Figure at 0x7f68d2e2bcd0>"
      ]
     },
     "metadata": {},
     "output_type": "display_data"
    }
   ],
   "source": [
    "sns.distplot(train[train['CREDIT_DAY_OVERDUE'] > 200]['CREDIT_DAY_OVERDUE'].dropna())"
   ]
  },
  {
   "cell_type": "markdown",
   "metadata": {},
   "source": [
    "По всей видимости либо нет границы, после которой "
   ]
  },
  {
   "cell_type": "code",
   "execution_count": 46,
   "metadata": {
    "collapsed": false
   },
   "outputs": [
    {
     "data": {
      "text/plain": [
       "<pandas.core.groupby.DataFrameGroupBy object at 0x7f69546a9fd0>"
      ]
     },
     "execution_count": 46,
     "metadata": {},
     "output_type": "execute_result"
    }
   ],
   "source": [
    "train.groupby('ID')"
   ]
  },
  {
   "cell_type": "markdown",
   "metadata": {},
   "source": [
    "Выделим данные на тест:"
   ]
  },
  {
   "cell_type": "code",
   "execution_count": null,
   "metadata": {
    "collapsed": true
   },
   "outputs": [],
   "source": [
    "X_train, X_test, y_train, y_test = train_test_split(train, y, test_size=0.33, random_state=2017)"
   ]
  },
  {
   "cell_type": "markdown",
   "metadata": {},
   "source": [
    "Вряд ли источник данных влияет на возврат кредита. Нужно проверить."
   ]
  },
  {
   "cell_type": "code",
   "execution_count": null,
   "metadata": {
    "collapsed": false
   },
   "outputs": [],
   "source": [
    "y.head()"
   ]
  },
  {
   "cell_type": "code",
   "execution_count": null,
   "metadata": {
    "collapsed": false
   },
   "outputs": [],
   "source": [
    "X.head(15)"
   ]
  },
  {
   "cell_type": "code",
   "execution_count": null,
   "metadata": {
    "collapsed": false
   },
   "outputs": [],
   "source": [
    "X.tail()"
   ]
  },
  {
   "cell_type": "code",
   "execution_count": null,
   "metadata": {
    "collapsed": false
   },
   "outputs": [],
   "source": [
    "train.head()"
   ]
  },
  {
   "cell_type": "code",
   "execution_count": null,
   "metadata": {
    "collapsed": true
   },
   "outputs": [],
   "source": [
    "train[['ID', ]].groupby('ID')"
   ]
  },
  {
   "cell_type": "code",
   "execution_count": null,
   "metadata": {
    "collapsed": true
   },
   "outputs": [],
   "source": []
  },
  {
   "cell_type": "code",
   "execution_count": null,
   "metadata": {
    "collapsed": false,
    "scrolled": true
   },
   "outputs": [],
   "source": []
  },
  {
   "cell_type": "code",
   "execution_count": null,
   "metadata": {
    "collapsed": false
   },
   "outputs": [],
   "source": [
    "X.head()"
   ]
  },
  {
   "cell_type": "code",
   "execution_count": null,
   "metadata": {
    "collapsed": false
   },
   "outputs": [],
   "source": [
    "X.iloc[2]"
   ]
  },
  {
   "cell_type": "code",
   "execution_count": null,
   "metadata": {
    "collapsed": false
   },
   "outputs": [],
   "source": [
    "X.iloc[4]"
   ]
  },
  {
   "cell_type": "code",
   "execution_count": null,
   "metadata": {
    "collapsed": false
   },
   "outputs": [],
   "source": [
    "X.iloc[0]['TEXT_PAYMENT_DISCIPLINE']"
   ]
  },
  {
   "cell_type": "code",
   "execution_count": null,
   "metadata": {
    "collapsed": false
   },
   "outputs": [],
   "source": [
    "len(X.iloc[0]['TEXT_PAYMENT_DISCIPLINE'])"
   ]
  },
  {
   "cell_type": "code",
   "execution_count": null,
   "metadata": {
    "collapsed": false
   },
   "outputs": [],
   "source": [
    "X.dtypes"
   ]
  },
  {
   "cell_type": "code",
   "execution_count": null,
   "metadata": {
    "collapsed": false
   },
   "outputs": [],
   "source": [
    "X.CREDIT_FACILITY.unique()"
   ]
  },
  {
   "cell_type": "code",
   "execution_count": null,
   "metadata": {
    "collapsed": true
   },
   "outputs": [],
   "source": [
    "ID\n",
    "CNT_CREDIT_PROLONG"
   ]
  },
  {
   "cell_type": "code",
   "execution_count": null,
   "metadata": {
    "collapsed": false
   },
   "outputs": [],
   "source": [
    "X['NUM_SOURCE'].value_counts()"
   ]
  },
  {
   "cell_type": "code",
   "execution_count": null,
   "metadata": {
    "collapsed": false,
    "scrolled": true
   },
   "outputs": [],
   "source": [
    "X.ID.value_counts()"
   ]
  },
  {
   "cell_type": "code",
   "execution_count": null,
   "metadata": {
    "collapsed": false,
    "scrolled": false
   },
   "outputs": [],
   "source": [
    "X[X.ID == 29802]"
   ]
  },
  {
   "cell_type": "code",
   "execution_count": null,
   "metadata": {
    "collapsed": true
   },
   "outputs": [],
   "source": []
  },
  {
   "cell_type": "markdown",
   "metadata": {},
   "source": [
    "Может ли быть несколько кредитов одного типа? Наверняка"
   ]
  },
  {
   "cell_type": "code",
   "execution_count": null,
   "metadata": {
    "collapsed": false
   },
   "outputs": [],
   "source": [
    "for i,j in zip(X.iloc[2], X.iloc[4]):\n",
    "    if i != j:\n",
    "        print '{} - {}'.format(i,j)"
   ]
  },
  {
   "cell_type": "code",
   "execution_count": null,
   "metadata": {
    "collapsed": false,
    "scrolled": true
   },
   "outputs": [],
   "source": [
    "X.TEXT_PAYMENT_DISCIPLINE.astype('str').apply(lambda x: len(x))"
   ]
  },
  {
   "cell_type": "markdown",
   "metadata": {},
   "source": [
    "Важна ли сама дата? Или важны лишь относительные показатели? Если второе, то ,возможно, что кроме разницы в днях есть другая важная дискретизация"
   ]
  },
  {
   "cell_type": "code",
   "execution_count": null,
   "metadata": {
    "collapsed": false
   },
   "outputs": [],
   "source": [
    "X."
   ]
  },
  {
   "cell_type": "code",
   "execution_count": null,
   "metadata": {
    "collapsed": false
   },
   "outputs": [],
   "source": []
  },
  {
   "cell_type": "markdown",
   "metadata": {},
   "source": [
    "Т.к. абсолютные значения дат будут удалены, разделение на тест и обучение можно сделать не по времени, а случайно и стратифицировано."
   ]
  },
  {
   "cell_type": "markdown",
   "metadata": {},
   "source": [
    "Для валидации данные есть, нужно выделить данные для теста."
   ]
  },
  {
   "cell_type": "code",
   "execution_count": 86,
   "metadata": {
    "collapsed": false
   },
   "outputs": [],
   "source": [
    "import xgboost as xgb"
   ]
  },
  {
   "cell_type": "code",
   "execution_count": 87,
   "metadata": {
    "collapsed": false,
    "scrolled": true
   },
   "outputs": [],
   "source": [
    "params = {}\n",
    "param['objective'] = 'binary:logistic'\n",
    "param['eval_metric'] = 'auc'\n",
    "param['seed'] = 2017"
   ]
  },
  {
   "cell_type": "code",
   "execution_count": null,
   "metadata": {
    "collapsed": true
   },
   "outputs": [],
   "source": [
    "dtrain = xgb.DMatrix(train, y)"
   ]
  },
  {
   "cell_type": "code",
   "execution_count": null,
   "metadata": {
    "collapsed": true
   },
   "outputs": [],
   "source": [
    "xgb.cv(params, dtrain, num_boost_round=1000, stratified=True, nfold=5, early_stopping_rounds=30)"
   ]
  },
  {
   "cell_type": "code",
   "execution_count": null,
   "metadata": {
    "collapsed": false,
    "scrolled": true
   },
   "outputs": [],
   "source": []
  },
  {
   "cell_type": "code",
   "execution_count": null,
   "metadata": {
    "collapsed": true
   },
   "outputs": [],
   "source": []
  },
  {
   "cell_type": "code",
   "execution_count": null,
   "metadata": {
    "collapsed": false
   },
   "outputs": [],
   "source": []
  },
  {
   "cell_type": "code",
   "execution_count": null,
   "metadata": {
    "collapsed": true
   },
   "outputs": [],
   "source": []
  },
  {
   "cell_type": "code",
   "execution_count": null,
   "metadata": {
    "collapsed": true
   },
   "outputs": [],
   "source": [
    "bst = xgb.train(param, dtrain, num_round)"
   ]
  },
  {
   "cell_type": "code",
   "execution_count": null,
   "metadata": {
    "collapsed": true
   },
   "outputs": [],
   "source": []
  },
  {
   "cell_type": "markdown",
   "metadata": {
    "collapsed": true
   },
   "source": [
    "Фичи, которые хотелось бы попробовать, но не успел:\n",
    "* Перекрытия дат кредитов\n",
    "* "
   ]
  },
  {
   "cell_type": "code",
   "execution_count": null,
   "metadata": {
    "collapsed": true
   },
   "outputs": [],
   "source": []
  }
 ],
 "metadata": {
  "anaconda-cloud": {},
  "kernelspec": {
   "display_name": "Python [default]",
   "language": "python",
   "name": "python2"
  },
  "language_info": {
   "codemirror_mode": {
    "name": "ipython",
    "version": 2
   },
   "file_extension": ".py",
   "mimetype": "text/x-python",
   "name": "python",
   "nbconvert_exporter": "python",
   "pygments_lexer": "ipython2",
   "version": "2.7.12"
  }
 },
 "nbformat": 4,
 "nbformat_minor": 2
}
